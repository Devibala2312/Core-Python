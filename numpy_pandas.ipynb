{
 "cells": [
  {
   "cell_type": "code",
   "execution_count": 1,
   "metadata": {},
   "outputs": [
    {
     "name": "stdout",
     "output_type": "stream",
     "text": [
      "[ 5  6  7  8  9 10]\n"
     ]
    }
   ],
   "source": [
    "# Create a 1D NumPy array of the integers 5 to 10.\n",
    "\n",
    "import numpy as np\n",
    "\n",
    "arr = np.arange(5, 11)\n",
    "print(arr)"
   ]
  },
  {
   "cell_type": "code",
   "execution_count": 2,
   "metadata": {},
   "outputs": [
    {
     "name": "stdout",
     "output_type": "stream",
     "text": [
      "Array:\n",
      " [[3 5 8]\n",
      " [1 9 3]\n",
      " [7 3 9]]\n",
      "Count of even numbers: 1\n"
     ]
    }
   ],
   "source": [
    "#Create a 2D numpy array with shape of (3, 3) & fill it with random numbers. Calculate the count of even numbers.\n",
    "\n",
    "import numpy as np\n",
    "\n",
    "arr = np.random.randint(0, 10, size=(3, 3))\n",
    "print(\"Array:\\n\", arr)\n",
    "\n",
    "even_count = np.sum(arr % 2 == 0)\n",
    "print(\"Count of even numbers:\", even_count)"
   ]
  },
  {
   "cell_type": "code",
   "execution_count": 3,
   "metadata": {},
   "outputs": [
    {
     "name": "stdout",
     "output_type": "stream",
     "text": [
      "Array:\n",
      "[[5 3 7 1]\n",
      " [3 2 8 1]\n",
      " [8 7 3 2]\n",
      " [5 2 9 9]\n",
      " [3 1 8 7]]\n",
      "Column-wise means: [4.8 3.  7.  4. ]\n",
      "Overall standard deviation: 2.830194339616981\n"
     ]
    }
   ],
   "source": [
    "# Create a 2D numpy array with shape (5,4) & fill with random numbers, calculate the mean(column wise) and the overall standard deviation:\n",
    "\n",
    "import numpy as np\n",
    "\n",
    "arr = np.random.randint(1, 10, size=(5, 4))\n",
    "print(\"Array:\")\n",
    "print(arr)\n",
    "\n",
    "col_means = np.mean(arr, axis=0)\n",
    "print(\"Column-wise means:\", col_means)\n",
    "\n",
    "# Calculate overall standard deviation\n",
    "overall_std = np.std(arr)\n",
    "print(\"Overall standard deviation:\", overall_std)"
   ]
  },
  {
   "cell_type": "code",
   "execution_count": 4,
   "metadata": {},
   "outputs": [
    {
     "name": "stdout",
     "output_type": "stream",
     "text": [
      "  student_name  average\n",
      "0        Alice       79\n",
      "1          Bob       74\n",
      "2        Jefin       89\n",
      "3        David       70\n",
      "4         Jude       58\n",
      "\n",
      "Dict version:\n",
      "{'student_name': ['Alice', 'Bob', 'Jefin', 'David', 'Jude'], 'average': [79, 74, 89, 70, 58]}\n"
     ]
    }
   ],
   "source": [
    "import pandas as pd\n",
    "\n",
    "data = {\n",
    "    'name': ['Alice', 'Bob', 'Jefin', 'David', 'Jude'],\n",
    "    'math_score': [80, 64, 90, 72, 56],\n",
    "    'english_score': [78, 85, 88, 69, 60]\n",
    "}\n",
    "\n",
    "df = pd.DataFrame(data)\n",
    "\n",
    "df = df.rename(columns={'name': 'student_name'})\n",
    "\n",
    "df['average'] = ((df['math_score'] + df['english_score']) / 2).astype('int8')\n",
    "\n",
    "df = df.drop(columns=['math_score', 'english_score'])\n",
    "\n",
    "print(df)\n",
    "\n",
    "print(\"\\nDict version:\")\n",
    "print(df.to_dict('list'))\n"
   ]
  },
  {
   "cell_type": "code",
   "execution_count": 8,
   "metadata": {},
   "outputs": [
    {
     "name": "stdout",
     "output_type": "stream",
     "text": [
      "First DataFrame:\n",
      "  student_name grade  score\n",
      "0        Alice     A     95\n",
      "1          Bob     B     82\n",
      "2      Charlie    A-     88\n",
      "\n",
      "Second DataFrame:\n",
      "  student_name grade  score\n",
      "0        David    B+     87\n",
      "1          Eva     A     92\n",
      "2        Frank     C     75\n",
      "\n",
      "Combined DataFrame:\n",
      "  student_name grade  score\n",
      "0        Alice     A     95\n",
      "1          Bob     B     82\n",
      "2      Charlie    A-     88\n",
      "3        David    B+     87\n",
      "4          Eva     A     92\n",
      "5        Frank     C     75\n"
     ]
    }
   ],
   "source": [
    "import pandas as pd\n",
    "\n",
    "# First DataFrame\n",
    "df1 = pd.DataFrame({\n",
    "    'student_name': ['Alice', 'Bob', 'Charlie'],\n",
    "    'grade': ['A', 'B', 'A-'],\n",
    "    'score': [95, 82, 88]\n",
    "})\n",
    "\n",
    "# Second DataFrame\n",
    "df2 = pd.DataFrame({\n",
    "    'student_name': ['David', 'Eva', 'Frank'],\n",
    "    'grade': ['B+', 'A', 'C'],\n",
    "    'score': [87, 92, 75]\n",
    "})\n",
    "\n",
    "combined_df = pd.concat([df1, df2], axis=0)\n",
    "\n",
    "combined_df = combined_df.reset_index(drop=True)\n",
    "\n",
    "print(\"First DataFrame:\")\n",
    "print(df1)\n",
    "print(\"\\nSecond DataFrame:\")\n",
    "print(df2)\n",
    "print(\"\\nCombined DataFrame:\")\n",
    "print(combined_df)"
   ]
  },
  {
   "cell_type": "code",
   "execution_count": 9,
   "metadata": {},
   "outputs": [
    {
     "name": "stdout",
     "output_type": "stream",
     "text": [
      "Original DataFrame:\n",
      "                 Name Age\n",
      "Student Info             \n",
      "1               Alice  20\n",
      "2                 Bob  22\n",
      "3             Charlie  19\n",
      "\n",
      "Sorted DataFrame (by Age, descending):\n",
      "                 Name Age\n",
      "Student Info             \n",
      "2                 Bob  22\n",
      "1               Alice  20\n",
      "3             Charlie  19\n",
      "\n",
      "Top two students (oldest first):\n",
      "Student Info\n",
      "2      Bob\n",
      "1    Alice\n",
      "Name: Name, dtype: object\n"
     ]
    }
   ],
   "source": [
    "import pandas as pd\n",
    "\n",
    "df = pd.DataFrame(columns=['Name', 'Age'], index=[1, 2, 3])\n",
    "df.index.name = 'Student Info'\n",
    "\n",
    "df.loc[1] = ['Alice', 20]\n",
    "df.loc[2] = ['Bob', 22]\n",
    "df.loc[3] = ['Charlie', 19]\n",
    "\n",
    "# Sort by 'Age' in descending order\n",
    "df_sorted = df.sort_values(by='Age', ascending=False)\n",
    "\n",
    "# Display the top 2 students using .iloc\n",
    "top_two_names = df_sorted.iloc[:2]['Name']\n",
    "\n",
    "print(\"Original DataFrame:\")\n",
    "print(df)\n",
    "print(\"\\nSorted DataFrame (by Age, descending):\")\n",
    "print(df_sorted)\n",
    "print(\"\\nTop two students (oldest first):\")\n",
    "print(top_two_names)"
   ]
  },
  {
   "cell_type": "code",
   "execution_count": 14,
   "metadata": {},
   "outputs": [
    {
     "name": "stdout",
     "output_type": "stream",
     "text": [
      "Employee names with department (inner merge):\n",
      "    name dept_name\n",
      "0  Alice        IT\n",
      "1    Bob        HR\n",
      "2  Revin     Sales\n",
      "3  Devin        IT\n",
      "\n",
      "All employees with department (left merge):\n",
      "  dept_name   name\n",
      "0        IT  Alice\n",
      "1        HR    Bob\n",
      "2     Sales  Revin\n",
      "3       NaN  David\n",
      "4        IT  Devin\n"
     ]
    }
   ],
   "source": [
    "import pandas as pd\n",
    "\n",
    "department = {\n",
    "    'dept_id': [10, 20, 30, 40],\n",
    "    'dept_name': ['HR', 'IT', 'Sales', 'Finance']\n",
    "}\n",
    "\n",
    "employees = {\n",
    "    'emp_id': [1, 2, 3, 4, 5],\n",
    "    'name': ['Alice', 'Bob', 'Revin', 'David', 'Devin'],\n",
    "    'dept_id': [20, 10, 30, 50, 20],\n",
    "    'salary': [70000, 48000, 55000, 62000, 72000]\n",
    "}\n",
    "\n",
    "dept_df = pd.DataFrame(department)\n",
    "emp_df = pd.DataFrame(employees)\n",
    "\n",
    "inner_merge = pd.merge(emp_df, dept_df, on='dept_id', how='inner')[['name', 'dept_name']]\n",
    "print(\"Employee names with department (inner merge):\")\n",
    "print(inner_merge)\n",
    "\n",
    "left_merge = pd.merge(emp_df, dept_df, on='dept_id', how='left')[['dept_name', 'name']]\n",
    "print(\"\\nAll employees with department (left merge):\")\n",
    "print(left_merge)"
   ]
  },
  {
   "cell_type": "code",
   "execution_count": 16,
   "metadata": {},
   "outputs": [
    {
     "name": "stdout",
     "output_type": "stream",
     "text": [
      "Original DataFrame:\n",
      "     item  stock  price\n",
      "A   apple     50     50\n",
      "B  banana     20     20\n",
      "C  cherry      0    100\n",
      "D   dates     30    150\n",
      "\n",
      "After updating cherry stock:\n",
      "     item  stock  price\n",
      "A   apple     50     50\n",
      "B  banana     20     20\n",
      "C  cherry     10    100\n",
      "D   dates     30    150\n",
      "\n",
      "Price at row 1, column 2 (banana's price): 20\n"
     ]
    }
   ],
   "source": [
    "import pandas as pd\n",
    "\n",
    "data = {\n",
    "    'item': ['apple', 'banana', 'cherry', 'dates'],\n",
    "    'stock': [50, 20, 0, 30],\n",
    "    'price': [50, 20, 100, 150]\n",
    "}\n",
    "df = pd.DataFrame(data, index=['A', 'B', 'C', 'D'])\n",
    "\n",
    "print(\"Original DataFrame:\")\n",
    "print(df)\n",
    "\n",
    "df.loc['C', 'stock'] = 10\n",
    "\n",
    "print(\"\\nAfter updating cherry stock:\")\n",
    "print(df)\n",
    "\n",
    "price_value = df.iloc[1, 2]\n",
    "\n",
    "print(\"\\nPrice at row 1, column 2 (banana's price):\", price_value)"
   ]
  },
  {
   "cell_type": "code",
   "execution_count": 19,
   "metadata": {},
   "outputs": [
    {
     "name": "stdout",
     "output_type": "stream",
     "text": [
      "  first_name last_name      full_name\n",
      "0       John       Doe       John Doe\n",
      "1       Jane     Smith     Jane Smith\n",
      "2      Alice   Johnson  Alice Johnson\n",
      "3        Bob       Lee        Bob Lee\n"
     ]
    }
   ],
   "source": [
    "import pandas as pd\n",
    "\n",
    "data = {\n",
    "    'first_name': ['John', 'Jane', 'Alice', 'Bob'],\n",
    "    'last_name': ['Doe', 'Smith', 'Johnson', 'Lee']\n",
    "}\n",
    "df = pd.DataFrame(data)\n",
    "\n",
    "df['full_name'] = df['first_name'] + ' ' + df['last_name']\n",
    "\n",
    "print(df)"
   ]
  },
  {
   "cell_type": "code",
   "execution_count": 20,
   "metadata": {},
   "outputs": [
    {
     "name": "stdout",
     "output_type": "stream",
     "text": [
      "Original DataFrame:\n",
      "   order_id product_category  order_value  user_id\n",
      "0       101      Electronics          250        1\n",
      "1       102         Clothing           80        2\n",
      "2       103      Electronics          120        1\n",
      "3       104             Home          200        3\n",
      "4       105         Clothing           50        2\n",
      "5       106             Home          150        1\n",
      "6       107      Electronics          300        2\n",
      "\n",
      "1) Count of orders made by each user:\n",
      "user_id\n",
      "1    3\n",
      "2    3\n",
      "3    1\n",
      "Name: order_id, dtype: int64\n",
      "\n",
      "2) Average order_value by each user:\n",
      "user_id\n",
      "1    173.333333\n",
      "2    143.333333\n",
      "3    200.000000\n",
      "Name: order_value, dtype: float64\n",
      "\n",
      "3) Average order_value for each product_category:\n",
      "product_category\n",
      "Clothing        65.000000\n",
      "Electronics    223.333333\n",
      "Home           175.000000\n",
      "Name: order_value, dtype: float64\n"
     ]
    }
   ],
   "source": [
    "import pandas as pd\n",
    "\n",
    "data = {\n",
    "    'order_id':  [101, 102, 103, 104, 105, 106, 107],\n",
    "    'product_category':['Electronics','Clothing','Electronics', 'Home','Clothing','Home','Electronics'],\n",
    "    'order_value':  [250, 80, 120, 200, 50, 150, 300],\n",
    "    'user_id':[1, 2,  1, 3, 2, 1, 2]\n",
    "}\n",
    "\n",
    "df = pd.DataFrame(data)\n",
    "print(\"Original DataFrame:\")\n",
    "print(df)\n",
    "\n",
    "# 1) Calculate count of order made by each user\n",
    "orders_per_user = df.groupby('user_id')['order_id'].count()\n",
    "print(\"\\n1) Count of orders made by each user:\")\n",
    "print(orders_per_user)\n",
    "\n",
    "# 2) Average of order_value by each user\n",
    "avg_order_value_per_user = df.groupby('user_id')['order_value'].mean()\n",
    "print(\"\\n2) Average order_value by each user:\")\n",
    "print(avg_order_value_per_user)\n",
    "\n",
    "# 3) Average order_value for each product_category\n",
    "avg_order_value_per_category = df.groupby('product_category')['order_value'].mean()\n",
    "print(\"\\n3) Average order_value for each product_category:\")\n",
    "print(avg_order_value_per_category)"
   ]
  }
 ],
 "metadata": {
  "kernelspec": {
   "display_name": "Python 3",
   "language": "python",
   "name": "python3"
  },
  "language_info": {
   "codemirror_mode": {
    "name": "ipython",
    "version": 3
   },
   "file_extension": ".py",
   "mimetype": "text/x-python",
   "name": "python",
   "nbconvert_exporter": "python",
   "pygments_lexer": "ipython3",
   "version": "3.13.3"
  }
 },
 "nbformat": 4,
 "nbformat_minor": 2
}
