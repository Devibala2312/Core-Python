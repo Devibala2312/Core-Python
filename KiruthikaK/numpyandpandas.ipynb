{
 "cells": [
  {
   "cell_type": "code",
   "execution_count": 3,
   "id": "76fe0186-c857-493b-a75a-9907f3cbfc90",
   "metadata": {},
   "outputs": [],
   "source": [
    "import numpy as np"
   ]
  },
  {
   "cell_type": "code",
   "execution_count": 5,
   "id": "18c29766-fb9d-49da-82b1-79e9d8b29359",
   "metadata": {},
   "outputs": [],
   "source": [
    "import pandas as pd"
   ]
  },
  {
   "cell_type": "code",
   "execution_count": 11,
   "id": "5aa458ed-7adc-4c95-8ce3-27872231df9d",
   "metadata": {},
   "outputs": [],
   "source": [
    "myarr_1D = np.arange(5,11)"
   ]
  },
  {
   "cell_type": "code",
   "execution_count": 12,
   "id": "3b79fd93-6a83-436e-8848-6918f96d60f5",
   "metadata": {},
   "outputs": [
    {
     "data": {
      "text/plain": [
       "array([ 5,  6,  7,  8,  9, 10])"
      ]
     },
     "execution_count": 12,
     "metadata": {},
     "output_type": "execute_result"
    }
   ],
   "source": [
    "myarr_1D"
   ]
  },
  {
   "cell_type": "code",
   "execution_count": 22,
   "id": "1b17168a-2b79-444b-83f6-bb73e51433b6",
   "metadata": {},
   "outputs": [
    {
     "data": {
      "text/plain": [
       "array([[ 4, 62, 92],\n",
       "       [ 4, 23, 13],\n",
       "       [33, 96, 79]], dtype=int32)"
      ]
     },
     "execution_count": 22,
     "metadata": {},
     "output_type": "execute_result"
    }
   ],
   "source": [
    "create_2D = np.random.randint(1,100,size=(3,3))\n",
    "create_2D"
   ]
  },
  {
   "cell_type": "code",
   "execution_count": 23,
   "id": "0fb0c59e-5738-48f6-bb3a-c354620d92aa",
   "metadata": {},
   "outputs": [],
   "source": [
    "event_count = np.sum(create_2D % 2==0)"
   ]
  },
  {
   "cell_type": "code",
   "execution_count": 26,
   "id": "0fb36a5b-34f4-4424-81f3-e49a036457b9",
   "metadata": {},
   "outputs": [
    {
     "name": "stdout",
     "output_type": "stream",
     "text": [
      "Even number count:  5\n"
     ]
    }
   ],
   "source": [
    "print(\"Even number count: \",event_count)"
   ]
  },
  {
   "cell_type": "code",
   "execution_count": 28,
   "id": "4393f6f2-2f3d-405f-853c-6a435f9871de",
   "metadata": {},
   "outputs": [
    {
     "data": {
      "text/plain": [
       "array([[6, 8, 6, 1],\n",
       "       [3, 1, 4, 1],\n",
       "       [5, 1, 8, 6],\n",
       "       [5, 4, 2, 5],\n",
       "       [6, 3, 2, 2]], dtype=int32)"
      ]
     },
     "execution_count": 28,
     "metadata": {},
     "output_type": "execute_result"
    }
   ],
   "source": [
    "create_2D_5_4 = np.random.randint(1,10,size=(5,4))\n",
    "create_2D_5_4"
   ]
  },
  {
   "cell_type": "code",
   "execution_count": 29,
   "id": "7317c5c9-b32d-4e3a-8251-d27439a19a06",
   "metadata": {},
   "outputs": [
    {
     "data": {
      "text/plain": [
       "np.float64(3.95)"
      ]
     },
     "execution_count": 29,
     "metadata": {},
     "output_type": "execute_result"
    }
   ],
   "source": [
    "np.mean(create_2D_5_4)"
   ]
  },
  {
   "cell_type": "code",
   "execution_count": 33,
   "id": "9b1ca334-4d3d-4c5e-83fc-cf62c39ca031",
   "metadata": {},
   "outputs": [
    {
     "name": "stdout",
     "output_type": "stream",
     "text": [
      "Column Mean: [5.  3.4 4.4 3. ]\n"
     ]
    }
   ],
   "source": [
    "print(\"Column Mean:\", np.mean(create_2D_5_4,axis=0))"
   ]
  },
  {
   "cell_type": "code",
   "execution_count": 32,
   "id": "66155b99-01fb-49e5-9f0d-ab074a6a7f68",
   "metadata": {},
   "outputs": [
    {
     "name": "stdout",
     "output_type": "stream",
     "text": [
      "std: 2.2466641938660974\n"
     ]
    }
   ],
   "source": [
    "print(\"std:\" ,np.std(create_2D_5_4))"
   ]
  },
  {
   "cell_type": "code",
   "execution_count": 36,
   "id": "5cae24d1-595a-43ca-aeee-3d377fa83abb",
   "metadata": {},
   "outputs": [
    {
     "data": {
      "text/html": [
       "<div>\n",
       "<style scoped>\n",
       "    .dataframe tbody tr th:only-of-type {\n",
       "        vertical-align: middle;\n",
       "    }\n",
       "\n",
       "    .dataframe tbody tr th {\n",
       "        vertical-align: top;\n",
       "    }\n",
       "\n",
       "    .dataframe thead th {\n",
       "        text-align: right;\n",
       "    }\n",
       "</style>\n",
       "<table border=\"1\" class=\"dataframe\">\n",
       "  <thead>\n",
       "    <tr style=\"text-align: right;\">\n",
       "      <th></th>\n",
       "      <th>name</th>\n",
       "      <th>math_score</th>\n",
       "      <th>english_score</th>\n",
       "    </tr>\n",
       "  </thead>\n",
       "  <tbody>\n",
       "    <tr>\n",
       "      <th>0</th>\n",
       "      <td>Alice</td>\n",
       "      <td>80</td>\n",
       "      <td>78</td>\n",
       "    </tr>\n",
       "    <tr>\n",
       "      <th>1</th>\n",
       "      <td>Bob</td>\n",
       "      <td>64</td>\n",
       "      <td>85</td>\n",
       "    </tr>\n",
       "    <tr>\n",
       "      <th>2</th>\n",
       "      <td>Jefin</td>\n",
       "      <td>90</td>\n",
       "      <td>88</td>\n",
       "    </tr>\n",
       "    <tr>\n",
       "      <th>3</th>\n",
       "      <td>David</td>\n",
       "      <td>72</td>\n",
       "      <td>69</td>\n",
       "    </tr>\n",
       "    <tr>\n",
       "      <th>4</th>\n",
       "      <td>Jude</td>\n",
       "      <td>56</td>\n",
       "      <td>60</td>\n",
       "    </tr>\n",
       "  </tbody>\n",
       "</table>\n",
       "</div>"
      ],
      "text/plain": [
       "    name  math_score  english_score\n",
       "0  Alice          80             78\n",
       "1    Bob          64             85\n",
       "2  Jefin          90             88\n",
       "3  David          72             69\n",
       "4   Jude          56             60"
      ]
     },
     "execution_count": 36,
     "metadata": {},
     "output_type": "execute_result"
    }
   ],
   "source": [
    "input_data = {\n",
    "'name': ['Alice','Bob','Jefin','David','Jude'], \n",
    "'math_score':[80, 64, 90, 72, 56], \n",
    "'english_score': [78, 85, 88, 69, 60]\n",
    "}\n",
    "data = pd.DataFrame(input_data)\n",
    "data"
   ]
  },
  {
   "cell_type": "code",
   "execution_count": 39,
   "id": "393b2e86-4e0d-4b6c-bb28-d9d1dce879ee",
   "metadata": {},
   "outputs": [],
   "source": [
    "data.rename(columns={'name':'student_name'},inplace=True)"
   ]
  },
  {
   "cell_type": "code",
   "execution_count": 49,
   "id": "c29a4712-7939-44b7-9280-680bee221bb5",
   "metadata": {},
   "outputs": [],
   "source": [
    "data['average']=data[['math_score','english_score']].mean(axis=1).astype(np.int8)"
   ]
  },
  {
   "cell_type": "code",
   "execution_count": 52,
   "id": "b55889ee-f1e2-4e95-9a21-3699de26a139",
   "metadata": {},
   "outputs": [],
   "source": [
    "data.drop(columns=['math_score','english_score'],inplace=True)"
   ]
  },
  {
   "cell_type": "code",
   "execution_count": 53,
   "id": "2354423c-f51f-40f3-816f-3daff963d1ea",
   "metadata": {},
   "outputs": [
    {
     "name": "stdout",
     "output_type": "stream",
     "text": [
      "  student_name  average\n",
      "0        Alice       79\n",
      "1          Bob       74\n",
      "2        Jefin       89\n",
      "3        David       70\n",
      "4         Jude       58\n"
     ]
    }
   ],
   "source": [
    "print(data)"
   ]
  },
  {
   "cell_type": "code",
   "execution_count": 54,
   "id": "f76a2054-b972-429d-b2a1-e1a0affc11a3",
   "metadata": {},
   "outputs": [],
   "source": [
    "df1 = pd.DataFrame({\n",
    "    'empname': ['Iron Man', 'Captain America', 'Hawkeye'],\n",
    "    'empid': [101, 102, 103]\n",
    "})\n",
    "\n",
    "df2 = pd.DataFrame({\n",
    "    'empname': ['Thor', 'Black Widow', 'Hulk'],\n",
    "    'empid': [201, 202, 203]\n",
    "})"
   ]
  },
  {
   "cell_type": "code",
   "execution_count": 68,
   "id": "dae7da8b-0b4f-49e7-b526-1774c865ef67",
   "metadata": {},
   "outputs": [
    {
     "data": {
      "text/html": [
       "<div>\n",
       "<style scoped>\n",
       "    .dataframe tbody tr th:only-of-type {\n",
       "        vertical-align: middle;\n",
       "    }\n",
       "\n",
       "    .dataframe tbody tr th {\n",
       "        vertical-align: top;\n",
       "    }\n",
       "\n",
       "    .dataframe thead th {\n",
       "        text-align: right;\n",
       "    }\n",
       "</style>\n",
       "<table border=\"1\" class=\"dataframe\">\n",
       "  <thead>\n",
       "    <tr style=\"text-align: right;\">\n",
       "      <th></th>\n",
       "      <th>empname</th>\n",
       "      <th>empid</th>\n",
       "    </tr>\n",
       "  </thead>\n",
       "  <tbody>\n",
       "    <tr>\n",
       "      <th>0</th>\n",
       "      <td>Iron Man</td>\n",
       "      <td>101</td>\n",
       "    </tr>\n",
       "    <tr>\n",
       "      <th>1</th>\n",
       "      <td>Captain America</td>\n",
       "      <td>102</td>\n",
       "    </tr>\n",
       "    <tr>\n",
       "      <th>2</th>\n",
       "      <td>Hawkeye</td>\n",
       "      <td>103</td>\n",
       "    </tr>\n",
       "    <tr>\n",
       "      <th>3</th>\n",
       "      <td>Thor</td>\n",
       "      <td>201</td>\n",
       "    </tr>\n",
       "    <tr>\n",
       "      <th>4</th>\n",
       "      <td>Black Widow</td>\n",
       "      <td>202</td>\n",
       "    </tr>\n",
       "    <tr>\n",
       "      <th>5</th>\n",
       "      <td>Hulk</td>\n",
       "      <td>203</td>\n",
       "    </tr>\n",
       "  </tbody>\n",
       "</table>\n",
       "</div>"
      ],
      "text/plain": [
       "           empname  empid\n",
       "0         Iron Man    101\n",
       "1  Captain America    102\n",
       "2          Hawkeye    103\n",
       "3             Thor    201\n",
       "4      Black Widow    202\n",
       "5             Hulk    203"
      ]
     },
     "execution_count": 68,
     "metadata": {},
     "output_type": "execute_result"
    }
   ],
   "source": [
    "df = pd.concat([df1,df2],ignore_index=True)\n",
    "df"
   ]
  },
  {
   "cell_type": "code",
   "execution_count": 69,
   "id": "6c99f96a-c15f-4755-a69e-b9569679a452",
   "metadata": {},
   "outputs": [
    {
     "name": "stdout",
     "output_type": "stream",
     "text": [
      "           empname  empid\n",
      "0         Iron Man    101\n",
      "1  Captain America    102\n",
      "2          Hawkeye    103\n",
      "3             Thor    201\n",
      "4      Black Widow    202\n",
      "5             Hulk    203\n"
     ]
    }
   ],
   "source": [
    "print(df)"
   ]
  },
  {
   "cell_type": "code",
   "execution_count": 77,
   "id": "50270568-d51a-4f96-896a-00d8bfcd156b",
   "metadata": {},
   "outputs": [
    {
     "data": {
      "text/html": [
       "<div>\n",
       "<style scoped>\n",
       "    .dataframe tbody tr th:only-of-type {\n",
       "        vertical-align: middle;\n",
       "    }\n",
       "\n",
       "    .dataframe tbody tr th {\n",
       "        vertical-align: top;\n",
       "    }\n",
       "\n",
       "    .dataframe thead th {\n",
       "        text-align: right;\n",
       "    }\n",
       "</style>\n",
       "<table border=\"1\" class=\"dataframe\">\n",
       "  <thead>\n",
       "    <tr style=\"text-align: right;\">\n",
       "      <th></th>\n",
       "      <th>Name</th>\n",
       "      <th>Age</th>\n",
       "    </tr>\n",
       "  </thead>\n",
       "  <tbody>\n",
       "    <tr>\n",
       "      <th>1</th>\n",
       "      <td>NaN</td>\n",
       "      <td>NaN</td>\n",
       "    </tr>\n",
       "    <tr>\n",
       "      <th>2</th>\n",
       "      <td>NaN</td>\n",
       "      <td>NaN</td>\n",
       "    </tr>\n",
       "    <tr>\n",
       "      <th>3</th>\n",
       "      <td>NaN</td>\n",
       "      <td>NaN</td>\n",
       "    </tr>\n",
       "  </tbody>\n",
       "</table>\n",
       "</div>"
      ],
      "text/plain": [
       "  Name  Age\n",
       "1  NaN  NaN\n",
       "2  NaN  NaN\n",
       "3  NaN  NaN"
      ]
     },
     "execution_count": 77,
     "metadata": {},
     "output_type": "execute_result"
    }
   ],
   "source": [
    "data2=pd.DataFrame(columns=['Name','Age'],index=[1,2,3])\n",
    "data2"
   ]
  },
  {
   "cell_type": "code",
   "execution_count": 78,
   "id": "ef74cdbd-6c89-4eee-a44d-75c2e9336911",
   "metadata": {},
   "outputs": [
    {
     "data": {
      "text/html": [
       "<div>\n",
       "<style scoped>\n",
       "    .dataframe tbody tr th:only-of-type {\n",
       "        vertical-align: middle;\n",
       "    }\n",
       "\n",
       "    .dataframe tbody tr th {\n",
       "        vertical-align: top;\n",
       "    }\n",
       "\n",
       "    .dataframe thead th {\n",
       "        text-align: right;\n",
       "    }\n",
       "</style>\n",
       "<table border=\"1\" class=\"dataframe\">\n",
       "  <thead>\n",
       "    <tr style=\"text-align: right;\">\n",
       "      <th></th>\n",
       "      <th>Name</th>\n",
       "      <th>Age</th>\n",
       "    </tr>\n",
       "    <tr>\n",
       "      <th>ID</th>\n",
       "      <th></th>\n",
       "      <th></th>\n",
       "    </tr>\n",
       "  </thead>\n",
       "  <tbody>\n",
       "    <tr>\n",
       "      <th>1</th>\n",
       "      <td>Mickey Mouse</td>\n",
       "      <td>21</td>\n",
       "    </tr>\n",
       "    <tr>\n",
       "      <th>2</th>\n",
       "      <td>Elsa</td>\n",
       "      <td>23</td>\n",
       "    </tr>\n",
       "    <tr>\n",
       "      <th>3</th>\n",
       "      <td>Simba</td>\n",
       "      <td>19</td>\n",
       "    </tr>\n",
       "  </tbody>\n",
       "</table>\n",
       "</div>"
      ],
      "text/plain": [
       "            Name Age\n",
       "ID                  \n",
       "1   Mickey Mouse  21\n",
       "2           Elsa  23\n",
       "3          Simba  19"
      ]
     },
     "execution_count": 78,
     "metadata": {},
     "output_type": "execute_result"
    }
   ],
   "source": [
    "data2.name = 'Student Info'\n",
    "data2.index.name = 'ID'\n",
    "data2\n",
    "data2.loc[1] = ['Mickey Mouse', 21]\n",
    "data2.loc[2] = ['Elsa', 23]\n",
    "data2.loc[3] = ['Simba', 19]\n",
    "data2"
   ]
  },
  {
   "cell_type": "code",
   "execution_count": 79,
   "id": "6ffff986-b506-4f16-a082-029651fa15f4",
   "metadata": {},
   "outputs": [
    {
     "data": {
      "text/html": [
       "<div>\n",
       "<style scoped>\n",
       "    .dataframe tbody tr th:only-of-type {\n",
       "        vertical-align: middle;\n",
       "    }\n",
       "\n",
       "    .dataframe tbody tr th {\n",
       "        vertical-align: top;\n",
       "    }\n",
       "\n",
       "    .dataframe thead th {\n",
       "        text-align: right;\n",
       "    }\n",
       "</style>\n",
       "<table border=\"1\" class=\"dataframe\">\n",
       "  <thead>\n",
       "    <tr style=\"text-align: right;\">\n",
       "      <th></th>\n",
       "      <th>Name</th>\n",
       "      <th>Age</th>\n",
       "    </tr>\n",
       "    <tr>\n",
       "      <th>ID</th>\n",
       "      <th></th>\n",
       "      <th></th>\n",
       "    </tr>\n",
       "  </thead>\n",
       "  <tbody>\n",
       "    <tr>\n",
       "      <th>2</th>\n",
       "      <td>Elsa</td>\n",
       "      <td>23</td>\n",
       "    </tr>\n",
       "    <tr>\n",
       "      <th>1</th>\n",
       "      <td>Mickey Mouse</td>\n",
       "      <td>21</td>\n",
       "    </tr>\n",
       "    <tr>\n",
       "      <th>3</th>\n",
       "      <td>Simba</td>\n",
       "      <td>19</td>\n",
       "    </tr>\n",
       "  </tbody>\n",
       "</table>\n",
       "</div>"
      ],
      "text/plain": [
       "            Name Age\n",
       "ID                  \n",
       "2           Elsa  23\n",
       "1   Mickey Mouse  21\n",
       "3          Simba  19"
      ]
     },
     "execution_count": 79,
     "metadata": {},
     "output_type": "execute_result"
    }
   ],
   "source": [
    "data2.sort_values(by='Age',ascending=False)"
   ]
  },
  {
   "cell_type": "code",
   "execution_count": 82,
   "id": "f55e17c6-8d82-4c05-a5cb-4b3b50924145",
   "metadata": {},
   "outputs": [
    {
     "name": "stdout",
     "output_type": "stream",
     "text": [
      "ID\n",
      "1    Mickey Mouse\n",
      "2            Elsa\n",
      "Name: Name, dtype: object\n"
     ]
    }
   ],
   "source": [
    "top_2_names = data2[:2]['Name']\n",
    "print(top_2_names)"
   ]
  },
  {
   "cell_type": "code",
   "execution_count": 83,
   "id": "63bcce9b-dab9-4ddb-8745-f5c2b1fb26ce",
   "metadata": {},
   "outputs": [],
   "source": [
    "department={\n",
    "'dept_id':   [10, 20, 30, 40],\n",
    "'dept_name': ['HR', 'IT', 'Sales', 'Finance']\n",
    "}\n",
    "employees={\n",
    "'emp_id': [1, 2, 3, 4, 5], \n",
    "'name': ['Alice','Bob','Revin','David','Devin'], \n",
    "'dept_id': [20, 10, 30, 50, 20],\n",
    "'salary': [70000, 48000, 55000, 62000, 72000]\n",
    "}"
   ]
  },
  {
   "cell_type": "code",
   "execution_count": 85,
   "id": "3b775dab-426e-4864-af3c-7057bc4a571c",
   "metadata": {},
   "outputs": [
    {
     "data": {
      "text/plain": [
       "(   dept_id dept_name\n",
       " 0       10        HR\n",
       " 1       20        IT\n",
       " 2       30     Sales\n",
       " 3       40   Finance,\n",
       "    emp_id   name  dept_id  salary\n",
       " 0       1  Alice       20   70000\n",
       " 1       2    Bob       10   48000\n",
       " 2       3  Revin       30   55000\n",
       " 3       4  David       50   62000\n",
       " 4       5  Devin       20   72000)"
      ]
     },
     "execution_count": 85,
     "metadata": {},
     "output_type": "execute_result"
    }
   ],
   "source": [
    "department_df = pd.DataFrame(department)\n",
    "employees_df = pd.DataFrame(employees)\n",
    "department_df,employees_df"
   ]
  },
  {
   "cell_type": "code",
   "execution_count": 90,
   "id": "255a3c4d-f533-4eef-9b92-311d86f91537",
   "metadata": {},
   "outputs": [],
   "source": [
    "inner_merge = pd.merge(department_df,employees_df,on='dept_id')"
   ]
  },
  {
   "cell_type": "code",
   "execution_count": 91,
   "id": "281e6cda-21e0-4e1e-9d88-bdff828cdc3f",
   "metadata": {},
   "outputs": [],
   "source": [
    "left_merge = pd.merge(department_df,employees_df,on='dept_id',how='right')"
   ]
  },
  {
   "cell_type": "code",
   "execution_count": 92,
   "id": "665d6ed0-da41-4f40-9d25-76b5051037aa",
   "metadata": {},
   "outputs": [
    {
     "name": "stdout",
     "output_type": "stream",
     "text": [
      "   dept_id dept_name  emp_id   name  salary\n",
      "0       10        HR       2    Bob   48000\n",
      "1       20        IT       1  Alice   70000\n",
      "2       20        IT       5  Devin   72000\n",
      "3       30     Sales       3  Revin   55000\n",
      "   dept_id dept_name  emp_id   name  salary\n",
      "0       20        IT       1  Alice   70000\n",
      "1       10        HR       2    Bob   48000\n",
      "2       30     Sales       3  Revin   55000\n",
      "3       50       NaN       4  David   62000\n",
      "4       20        IT       5  Devin   72000\n"
     ]
    }
   ],
   "source": [
    "print(inner_merge)\n",
    "print(left_merge)"
   ]
  },
  {
   "cell_type": "code",
   "execution_count": 94,
   "id": "aa931906-8f22-4645-89e3-96bfd8eea0d3",
   "metadata": {},
   "outputs": [
    {
     "data": {
      "text/html": [
       "<div>\n",
       "<style scoped>\n",
       "    .dataframe tbody tr th:only-of-type {\n",
       "        vertical-align: middle;\n",
       "    }\n",
       "\n",
       "    .dataframe tbody tr th {\n",
       "        vertical-align: top;\n",
       "    }\n",
       "\n",
       "    .dataframe thead th {\n",
       "        text-align: right;\n",
       "    }\n",
       "</style>\n",
       "<table border=\"1\" class=\"dataframe\">\n",
       "  <thead>\n",
       "    <tr style=\"text-align: right;\">\n",
       "      <th></th>\n",
       "      <th>item</th>\n",
       "      <th>stock</th>\n",
       "      <th>price</th>\n",
       "    </tr>\n",
       "  </thead>\n",
       "  <tbody>\n",
       "    <tr>\n",
       "      <th>A</th>\n",
       "      <td>apple</td>\n",
       "      <td>50</td>\n",
       "      <td>50</td>\n",
       "    </tr>\n",
       "    <tr>\n",
       "      <th>B</th>\n",
       "      <td>banana</td>\n",
       "      <td>20</td>\n",
       "      <td>20</td>\n",
       "    </tr>\n",
       "    <tr>\n",
       "      <th>C</th>\n",
       "      <td>cherry</td>\n",
       "      <td>0</td>\n",
       "      <td>100</td>\n",
       "    </tr>\n",
       "    <tr>\n",
       "      <th>D</th>\n",
       "      <td>dates</td>\n",
       "      <td>30</td>\n",
       "      <td>150</td>\n",
       "    </tr>\n",
       "  </tbody>\n",
       "</table>\n",
       "</div>"
      ],
      "text/plain": [
       "     item  stock  price\n",
       "A   apple     50     50\n",
       "B  banana     20     20\n",
       "C  cherry      0    100\n",
       "D   dates     30    150"
      ]
     },
     "execution_count": 94,
     "metadata": {},
     "output_type": "execute_result"
    }
   ],
   "source": [
    "data_stock = {\n",
    "'item':  ['apple', 'banana', 'cherry', 'dates'],\n",
    "'stock': [50, 20, 0, 30],\n",
    "'price': [50, 20, 100, 150]\n",
    " }\n",
    "data_stock_df = pd.DataFrame(data_stock,index=['A','B','C','D'])\n",
    "data_stock_df"
   ]
  },
  {
   "cell_type": "code",
   "execution_count": 99,
   "id": "74be5094-3a42-4eb2-a384-80d0ab50d0b0",
   "metadata": {},
   "outputs": [
    {
     "data": {
      "text/html": [
       "<div>\n",
       "<style scoped>\n",
       "    .dataframe tbody tr th:only-of-type {\n",
       "        vertical-align: middle;\n",
       "    }\n",
       "\n",
       "    .dataframe tbody tr th {\n",
       "        vertical-align: top;\n",
       "    }\n",
       "\n",
       "    .dataframe thead th {\n",
       "        text-align: right;\n",
       "    }\n",
       "</style>\n",
       "<table border=\"1\" class=\"dataframe\">\n",
       "  <thead>\n",
       "    <tr style=\"text-align: right;\">\n",
       "      <th></th>\n",
       "      <th>item</th>\n",
       "      <th>stock</th>\n",
       "      <th>price</th>\n",
       "    </tr>\n",
       "  </thead>\n",
       "  <tbody>\n",
       "    <tr>\n",
       "      <th>A</th>\n",
       "      <td>apple</td>\n",
       "      <td>50</td>\n",
       "      <td>50</td>\n",
       "    </tr>\n",
       "    <tr>\n",
       "      <th>B</th>\n",
       "      <td>banana</td>\n",
       "      <td>20</td>\n",
       "      <td>20</td>\n",
       "    </tr>\n",
       "    <tr>\n",
       "      <th>C</th>\n",
       "      <td>cherry</td>\n",
       "      <td>10</td>\n",
       "      <td>100</td>\n",
       "    </tr>\n",
       "    <tr>\n",
       "      <th>D</th>\n",
       "      <td>dates</td>\n",
       "      <td>30</td>\n",
       "      <td>150</td>\n",
       "    </tr>\n",
       "  </tbody>\n",
       "</table>\n",
       "</div>"
      ],
      "text/plain": [
       "     item  stock  price\n",
       "A   apple     50     50\n",
       "B  banana     20     20\n",
       "C  cherry     10    100\n",
       "D   dates     30    150"
      ]
     },
     "execution_count": 99,
     "metadata": {},
     "output_type": "execute_result"
    }
   ],
   "source": [
    "data_stock_df.loc['C','stock'] = 10\n",
    "data_stock_df"
   ]
  },
  {
   "cell_type": "code",
   "execution_count": 103,
   "id": "4bd859c7-9385-4d8d-8509-e80acbe97c82",
   "metadata": {},
   "outputs": [
    {
     "name": "stdout",
     "output_type": "stream",
     "text": [
      "20\n"
     ]
    }
   ],
   "source": [
    "price_row1_colum2= data_stock_df.iloc[1,2]\n",
    "print(price_row1_colum2)"
   ]
  },
  {
   "cell_type": "code",
   "execution_count": 106,
   "id": "821b7804-5639-4052-8c6d-481b2bae9dba",
   "metadata": {},
   "outputs": [
    {
     "data": {
      "text/html": [
       "<div>\n",
       "<style scoped>\n",
       "    .dataframe tbody tr th:only-of-type {\n",
       "        vertical-align: middle;\n",
       "    }\n",
       "\n",
       "    .dataframe tbody tr th {\n",
       "        vertical-align: top;\n",
       "    }\n",
       "\n",
       "    .dataframe thead th {\n",
       "        text-align: right;\n",
       "    }\n",
       "</style>\n",
       "<table border=\"1\" class=\"dataframe\">\n",
       "  <thead>\n",
       "    <tr style=\"text-align: right;\">\n",
       "      <th></th>\n",
       "      <th>first_name</th>\n",
       "      <th>last_name</th>\n",
       "    </tr>\n",
       "  </thead>\n",
       "  <tbody>\n",
       "    <tr>\n",
       "      <th>0</th>\n",
       "      <td>John</td>\n",
       "      <td>Doe</td>\n",
       "    </tr>\n",
       "    <tr>\n",
       "      <th>1</th>\n",
       "      <td>Jane</td>\n",
       "      <td>Smith</td>\n",
       "    </tr>\n",
       "    <tr>\n",
       "      <th>2</th>\n",
       "      <td>Alice</td>\n",
       "      <td>Johnson</td>\n",
       "    </tr>\n",
       "    <tr>\n",
       "      <th>3</th>\n",
       "      <td>Bob</td>\n",
       "      <td>Lee</td>\n",
       "    </tr>\n",
       "  </tbody>\n",
       "</table>\n",
       "</div>"
      ],
      "text/plain": [
       "  first_name last_name\n",
       "0       John       Doe\n",
       "1       Jane     Smith\n",
       "2      Alice   Johnson\n",
       "3        Bob       Lee"
      ]
     },
     "execution_count": 106,
     "metadata": {},
     "output_type": "execute_result"
    }
   ],
   "source": [
    "names={\n",
    "'first_name': ['John', 'Jane', 'Alice', 'Bob'],\n",
    "'last_name':  ['Doe',  'Smith','Johnson','Lee']\n",
    "} \n",
    "names_df=pd.DataFrame(names)\n",
    "names_df"
   ]
  },
  {
   "cell_type": "code",
   "execution_count": 109,
   "id": "a9f931ae-4023-41db-9249-3a0284661e3d",
   "metadata": {},
   "outputs": [
    {
     "data": {
      "text/html": [
       "<div>\n",
       "<style scoped>\n",
       "    .dataframe tbody tr th:only-of-type {\n",
       "        vertical-align: middle;\n",
       "    }\n",
       "\n",
       "    .dataframe tbody tr th {\n",
       "        vertical-align: top;\n",
       "    }\n",
       "\n",
       "    .dataframe thead th {\n",
       "        text-align: right;\n",
       "    }\n",
       "</style>\n",
       "<table border=\"1\" class=\"dataframe\">\n",
       "  <thead>\n",
       "    <tr style=\"text-align: right;\">\n",
       "      <th></th>\n",
       "      <th>first_name</th>\n",
       "      <th>last_name</th>\n",
       "      <th>full name</th>\n",
       "      <th>full_name</th>\n",
       "    </tr>\n",
       "  </thead>\n",
       "  <tbody>\n",
       "    <tr>\n",
       "      <th>0</th>\n",
       "      <td>John</td>\n",
       "      <td>Doe</td>\n",
       "      <td>John Doe</td>\n",
       "      <td>John Doe</td>\n",
       "    </tr>\n",
       "    <tr>\n",
       "      <th>1</th>\n",
       "      <td>Jane</td>\n",
       "      <td>Smith</td>\n",
       "      <td>Jane Smith</td>\n",
       "      <td>Jane Smith</td>\n",
       "    </tr>\n",
       "    <tr>\n",
       "      <th>2</th>\n",
       "      <td>Alice</td>\n",
       "      <td>Johnson</td>\n",
       "      <td>Alice Johnson</td>\n",
       "      <td>Alice Johnson</td>\n",
       "    </tr>\n",
       "    <tr>\n",
       "      <th>3</th>\n",
       "      <td>Bob</td>\n",
       "      <td>Lee</td>\n",
       "      <td>Bob Lee</td>\n",
       "      <td>Bob Lee</td>\n",
       "    </tr>\n",
       "  </tbody>\n",
       "</table>\n",
       "</div>"
      ],
      "text/plain": [
       "  first_name last_name      full name      full_name\n",
       "0       John       Doe       John Doe       John Doe\n",
       "1       Jane     Smith     Jane Smith     Jane Smith\n",
       "2      Alice   Johnson  Alice Johnson  Alice Johnson\n",
       "3        Bob       Lee        Bob Lee        Bob Lee"
      ]
     },
     "execution_count": 109,
     "metadata": {},
     "output_type": "execute_result"
    }
   ],
   "source": [
    "names_df['full_name']=names_df['first_name']+ ' ' +names_df['last_name']\n",
    "names_df"
   ]
  },
  {
   "cell_type": "code",
   "execution_count": 110,
   "id": "8c375293-1fe4-4256-9e5e-2749d309c697",
   "metadata": {},
   "outputs": [
    {
     "data": {
      "text/html": [
       "<div>\n",
       "<style scoped>\n",
       "    .dataframe tbody tr th:only-of-type {\n",
       "        vertical-align: middle;\n",
       "    }\n",
       "\n",
       "    .dataframe tbody tr th {\n",
       "        vertical-align: top;\n",
       "    }\n",
       "\n",
       "    .dataframe thead th {\n",
       "        text-align: right;\n",
       "    }\n",
       "</style>\n",
       "<table border=\"1\" class=\"dataframe\">\n",
       "  <thead>\n",
       "    <tr style=\"text-align: right;\">\n",
       "      <th></th>\n",
       "      <th>order_id</th>\n",
       "      <th>product_category</th>\n",
       "      <th>order_value</th>\n",
       "      <th>user_id</th>\n",
       "    </tr>\n",
       "  </thead>\n",
       "  <tbody>\n",
       "    <tr>\n",
       "      <th>0</th>\n",
       "      <td>101</td>\n",
       "      <td>Electronics</td>\n",
       "      <td>250</td>\n",
       "      <td>1</td>\n",
       "    </tr>\n",
       "    <tr>\n",
       "      <th>1</th>\n",
       "      <td>102</td>\n",
       "      <td>Clothing</td>\n",
       "      <td>80</td>\n",
       "      <td>2</td>\n",
       "    </tr>\n",
       "    <tr>\n",
       "      <th>2</th>\n",
       "      <td>103</td>\n",
       "      <td>Electronics</td>\n",
       "      <td>120</td>\n",
       "      <td>1</td>\n",
       "    </tr>\n",
       "    <tr>\n",
       "      <th>3</th>\n",
       "      <td>104</td>\n",
       "      <td>Home</td>\n",
       "      <td>200</td>\n",
       "      <td>3</td>\n",
       "    </tr>\n",
       "    <tr>\n",
       "      <th>4</th>\n",
       "      <td>105</td>\n",
       "      <td>Clothing</td>\n",
       "      <td>50</td>\n",
       "      <td>2</td>\n",
       "    </tr>\n",
       "    <tr>\n",
       "      <th>5</th>\n",
       "      <td>106</td>\n",
       "      <td>Home</td>\n",
       "      <td>150</td>\n",
       "      <td>1</td>\n",
       "    </tr>\n",
       "    <tr>\n",
       "      <th>6</th>\n",
       "      <td>107</td>\n",
       "      <td>Electronics</td>\n",
       "      <td>300</td>\n",
       "      <td>2</td>\n",
       "    </tr>\n",
       "  </tbody>\n",
       "</table>\n",
       "</div>"
      ],
      "text/plain": [
       "   order_id product_category  order_value  user_id\n",
       "0       101      Electronics          250        1\n",
       "1       102         Clothing           80        2\n",
       "2       103      Electronics          120        1\n",
       "3       104             Home          200        3\n",
       "4       105         Clothing           50        2\n",
       "5       106             Home          150        1\n",
       "6       107      Electronics          300        2"
      ]
     },
     "execution_count": 110,
     "metadata": {},
     "output_type": "execute_result"
    }
   ],
   "source": [
    "orders={\n",
    "'order_id':  [101, 102, 103, 104, 105, 106, 107], \n",
    "'product_category':['Electronics','Clothing','Electronics', 'Home','Clothing','Home','Electronics'], \n",
    "'order_value':  [250, 80, 120, 200, 50, 150, 300], \n",
    "'user_id':[1, 2,  1, 3, 2, 1, 2]\n",
    "}\n",
    "orders_df=pd.DataFrame(orders)\n",
    "orders_df"
   ]
  },
  {
   "cell_type": "code",
   "execution_count": 112,
   "id": "88754e62-a9a7-4665-8bb9-51ec9652443a",
   "metadata": {},
   "outputs": [
    {
     "data": {
      "text/plain": [
       "<pandas.core.groupby.generic.DataFrameGroupBy object at 0x00000211998271A0>"
      ]
     },
     "execution_count": 112,
     "metadata": {},
     "output_type": "execute_result"
    }
   ],
   "source": [
    "groupBy_user = orders_df.groupby('user_id')"
   ]
  },
  {
   "cell_type": "code",
   "execution_count": 118,
   "id": "867abc91-af23-4306-b6bc-90a92b2b1fa0",
   "metadata": {},
   "outputs": [
    {
     "data": {
      "text/plain": [
       "(   user_id  order_count\n",
       " 0        1            3\n",
       " 1        2            3\n",
       " 2        3            1,\n",
       "    user_id  order_mean\n",
       " 0        1  173.333333\n",
       " 1        2  143.333333\n",
       " 2        3  200.000000)"
      ]
     },
     "execution_count": 118,
     "metadata": {},
     "output_type": "execute_result"
    }
   ],
   "source": [
    "order_count=groupBy_user['order_id'].count().reset_index(name='order_count')\n",
    "average_order_value = groupBy_user['order_value'].mean().reset_index(name='order_mean')\n",
    "order_count,average_order_value"
   ]
  },
  {
   "cell_type": "code",
   "execution_count": 119,
   "id": "c8f4e8f6-e22b-4598-b52a-dac415eb3983",
   "metadata": {},
   "outputs": [
    {
     "data": {
      "text/html": [
       "<div>\n",
       "<style scoped>\n",
       "    .dataframe tbody tr th:only-of-type {\n",
       "        vertical-align: middle;\n",
       "    }\n",
       "\n",
       "    .dataframe tbody tr th {\n",
       "        vertical-align: top;\n",
       "    }\n",
       "\n",
       "    .dataframe thead th {\n",
       "        text-align: right;\n",
       "    }\n",
       "</style>\n",
       "<table border=\"1\" class=\"dataframe\">\n",
       "  <thead>\n",
       "    <tr style=\"text-align: right;\">\n",
       "      <th></th>\n",
       "      <th>product_category</th>\n",
       "      <th>order_avg_product</th>\n",
       "    </tr>\n",
       "  </thead>\n",
       "  <tbody>\n",
       "    <tr>\n",
       "      <th>0</th>\n",
       "      <td>Clothing</td>\n",
       "      <td>65.000000</td>\n",
       "    </tr>\n",
       "    <tr>\n",
       "      <th>1</th>\n",
       "      <td>Electronics</td>\n",
       "      <td>223.333333</td>\n",
       "    </tr>\n",
       "    <tr>\n",
       "      <th>2</th>\n",
       "      <td>Home</td>\n",
       "      <td>175.000000</td>\n",
       "    </tr>\n",
       "  </tbody>\n",
       "</table>\n",
       "</div>"
      ],
      "text/plain": [
       "  product_category  order_avg_product\n",
       "0         Clothing          65.000000\n",
       "1      Electronics         223.333333\n",
       "2             Home         175.000000"
      ]
     },
     "execution_count": 119,
     "metadata": {},
     "output_type": "execute_result"
    }
   ],
   "source": [
    "groupBy_product = orders_df.groupby('product_category')\n",
    "average_order_value_product =  groupBy_product['order_value'].mean().reset_index(name='order_avg_product')\n",
    "average_order_value_product"
   ]
  },
  {
   "cell_type": "code",
   "execution_count": null,
   "id": "526658ea-9327-4ab7-b5a7-6b5a8e093c9e",
   "metadata": {},
   "outputs": [],
   "source": []
  }
 ],
 "metadata": {
  "kernelspec": {
   "display_name": "Python 3 (ipykernel)",
   "language": "python",
   "name": "python3"
  },
  "language_info": {
   "codemirror_mode": {
    "name": "ipython",
    "version": 3
   },
   "file_extension": ".py",
   "mimetype": "text/x-python",
   "name": "python",
   "nbconvert_exporter": "python",
   "pygments_lexer": "ipython3",
   "version": "3.12.1"
  }
 },
 "nbformat": 4,
 "nbformat_minor": 5
}
