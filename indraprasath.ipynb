{
  "nbformat": 4,
  "nbformat_minor": 0,
  "metadata": {
    "colab": {
      "provenance": [],
      "toc_visible": true
    },
    "kernelspec": {
      "name": "python3",
      "display_name": "Python 3"
    },
    "language_info": {
      "name": "python"
    }
  },
  "cells": [
    {
      "cell_type": "code",
      "execution_count": 1,
      "metadata": {
        "colab": {
          "base_uri": "https://localhost:8080/"
        },
        "id": "9waIdT9ziAqB",
        "outputId": "41b2b4d3-01fa-400e-c427-e67ba94962ac"
      },
      "outputs": [
        {
          "output_type": "stream",
          "name": "stdout",
          "text": [
            "{'g': 2, 'o': 3, 'l': 1, 'e': 1, '.': 1, 'c': 1, 'm': 1}\n"
          ]
        }
      ],
      "source": [
        "string = 'google.com'\n",
        "char_count = {}\n",
        "\n",
        "for char in string:\n",
        "    if char in char_count:\n",
        "        char_count[char] += 1\n",
        "    else:\n",
        "        char_count[char] = 1\n",
        "\n",
        "print(char_count)\n"
      ]
    },
    {
      "cell_type": "code",
      "source": [
        "words = ['abc', 'xyz', 'aba', '1221']\n",
        "count = 0\n",
        "\n",
        "for word in words:\n",
        "    if len(word) >= 2 and word[0] == word[-1]:\n",
        "        count += 1\n",
        "\n",
        "print(\"Number of matching strings:\", count)\n"
      ],
      "metadata": {
        "colab": {
          "base_uri": "https://localhost:8080/"
        },
        "id": "j5JqhFFpic9n",
        "outputId": "7e4ae728-156c-4416-e05c-37c40fbe6b27"
      },
      "execution_count": 4,
      "outputs": [
        {
          "output_type": "stream",
          "name": "stdout",
          "text": [
            "Number of matching strings: 2\n"
          ]
        }
      ]
    },
    {
      "cell_type": "code",
      "source": [
        "input_str = input(\"Enter a string: \")\n",
        "\n",
        "if len(input_str) < 2:\n",
        "    result = ''\n",
        "else:\n",
        "    result = input_str[:2] + input_str[-2:]\n",
        "\n",
        "print(result)\n"
      ],
      "metadata": {
        "colab": {
          "base_uri": "https://localhost:8080/"
        },
        "id": "cH5JvcfIjU0h",
        "outputId": "c48215a9-03d9-451d-ec22-cbbd97ce1f0a"
      },
      "execution_count": 8,
      "outputs": [
        {
          "output_type": "stream",
          "name": "stdout",
          "text": [
            "Enter a string: hello\n",
            "helo\n"
          ]
        }
      ]
    },
    {
      "cell_type": "code",
      "source": [
        "sample_list = [(2, 5), (1, 2), (4, 4), (2, 3), (2, 1)]\n",
        "sorted_list = sorted(sample_list, key=lambda x: x[1])\n",
        "print(sorted_list)"
      ],
      "metadata": {
        "colab": {
          "base_uri": "https://localhost:8080/"
        },
        "id": "rPlnzZCpj2r2",
        "outputId": "ebc4e16b-7afa-485c-e8fa-0944bdc6bf19"
      },
      "execution_count": 11,
      "outputs": [
        {
          "output_type": "stream",
          "name": "stdout",
          "text": [
            "[(2, 1), (1, 2), (2, 3), (4, 4), (2, 5)]\n"
          ]
        }
      ]
    },
    {
      "cell_type": "code",
      "source": [
        "s = input(\"Enter a string: \")\n",
        "\n",
        "if len(s) < 3:\n",
        "    result = s\n",
        "elif s.endswith('ing'):\n",
        "    result = s + 'ly'\n",
        "else:\n",
        "    result = s + 'ing'\n",
        "\n",
        "print(\"Result:\", result)"
      ],
      "metadata": {
        "colab": {
          "base_uri": "https://localhost:8080/"
        },
        "id": "_DI6Xqxokk1T",
        "outputId": "552138a5-2eee-44a3-bdad-f8608d53eaf6"
      },
      "execution_count": 13,
      "outputs": [
        {
          "output_type": "stream",
          "name": "stdout",
          "text": [
            "Enter a string: Playing\n",
            "Result: Playingly\n"
          ]
        }
      ]
    },
    {
      "cell_type": "code",
      "source": [
        "squares = [x**2 for x in range(1, 21)]\n",
        "print(squares)"
      ],
      "metadata": {
        "colab": {
          "base_uri": "https://localhost:8080/"
        },
        "id": "DWdeYMSpk1gC",
        "outputId": "81dfc744-18a0-49f2-d6c3-c206cb1feb7e"
      },
      "execution_count": 14,
      "outputs": [
        {
          "output_type": "stream",
          "name": "stdout",
          "text": [
            "[1, 4, 9, 16, 25, 36, 49, 64, 81, 100, 121, 144, 169, 196, 225, 256, 289, 324, 361, 400]\n"
          ]
        }
      ]
    },
    {
      "cell_type": "code",
      "source": [
        "numbers = [23, 1, 45, 34, 7, 89, 2]\n",
        "\n",
        "largest = numbers[0]\n",
        "smallest = numbers[0]\n",
        "\n",
        "for num in numbers:\n",
        "    if num > largest:\n",
        "        largest = num\n",
        "    if num < smallest:\n",
        "        smallest = num\n",
        "\n",
        "print(\"Largest number:\", largest)\n",
        "print(\"Smallest number:\", smallest)\n"
      ],
      "metadata": {
        "colab": {
          "base_uri": "https://localhost:8080/"
        },
        "id": "Q1z8O0cYlEs2",
        "outputId": "0dad7367-2475-4620-85e0-1d831a76280b"
      },
      "execution_count": 17,
      "outputs": [
        {
          "output_type": "stream",
          "name": "stdout",
          "text": [
            "Largest number: 89\n",
            "Smallest number: 1\n"
          ]
        }
      ]
    },
    {
      "cell_type": "code",
      "source": [
        "def common_elements(list1, list2):\n",
        "    return set(list1) & set(list2)\n",
        "\n",
        "list_a = [1, 2, 3, 4, 5]\n",
        "list_b = [4, 5, 6, 7, 8]\n",
        "\n",
        "result = common_elements(list_a, list_b)\n",
        "print(\"Common elements:\", result)\n"
      ],
      "metadata": {
        "colab": {
          "base_uri": "https://localhost:8080/"
        },
        "id": "2RJB2UT9lfSm",
        "outputId": "03256bef-5ce2-4514-ed6e-355629485309"
      },
      "execution_count": 18,
      "outputs": [
        {
          "output_type": "stream",
          "name": "stdout",
          "text": [
            "Common elements: {4, 5}\n"
          ]
        }
      ]
    },
    {
      "cell_type": "code",
      "source": [
        "words = [\"apple\", \"banana\", \"cherry\", \"apple\", \"cherry\", \"date\", \"banana\"]\n",
        "\n",
        "word_count = {}\n",
        "duplicates = []\n",
        "\n",
        "for word in words:\n",
        "    if word in word_count:\n",
        "        word_count[word] += 1\n",
        "    else:\n",
        "        word_count[word] = 1\n",
        "\n",
        "for word, count in word_count.items():\n",
        "    if count > 1:\n",
        "        duplicates.append(word)\n",
        "\n",
        "print(\"duplicate words:\", duplicates)\n"
      ],
      "metadata": {
        "colab": {
          "base_uri": "https://localhost:8080/"
        },
        "id": "-QnfhehglWn2",
        "outputId": "142cbc16-3d4d-4e11-b158-1b13b98f9f73"
      },
      "execution_count": 20,
      "outputs": [
        {
          "output_type": "stream",
          "name": "stdout",
          "text": [
            "duplicate words: ['apple', 'banana', 'cherry']\n"
          ]
        }
      ]
    },
    {
      "cell_type": "code",
      "source": [
        "def set_operations(set1, set2):\n",
        "    union = set1 | set2\n",
        "    intersection = set1 & set2\n",
        "    difference = set1 - set2\n",
        "    return union, intersection, difference\n",
        "\n",
        "set_a = {1, 2, 3, 4}\n",
        "set_b = {3, 4, 5, 6}\n",
        "\n",
        "union, intersection, difference = set_operations(set_a, set_b)\n",
        "\n",
        "print(\"Union:\", union)\n",
        "print(\"Intersection:\", intersection)\n",
        "print(\"Difference:\", difference)"
      ],
      "metadata": {
        "colab": {
          "base_uri": "https://localhost:8080/"
        },
        "id": "lcctbXv5mbX0",
        "outputId": "c65f2a5a-e81d-467d-f79b-893717af8563"
      },
      "execution_count": 21,
      "outputs": [
        {
          "output_type": "stream",
          "name": "stdout",
          "text": [
            "Union: {1, 2, 3, 4, 5, 6}\n",
            "Intersection: {3, 4}\n",
            "Difference: {1, 2}\n"
          ]
        }
      ]
    },
    {
      "cell_type": "code",
      "source": [
        "def sum_scores(tuples):\n",
        "    score_dict = {}\n",
        "    for name, score in tuples:\n",
        "        if name in score_dict:\n",
        "            score_dict[name] += score\n",
        "        else:\n",
        "            score_dict[name] = score\n",
        "    return score_dict\n",
        "\n",
        "scores = [('Alice', 90), ('Bob', 85), ('Alice', 95)]\n",
        "result = sum_scores(scores)\n",
        "print(result)\n"
      ],
      "metadata": {
        "colab": {
          "base_uri": "https://localhost:8080/"
        },
        "id": "PiVrhFE7mzOf",
        "outputId": "3041d937-7b6e-4ef9-d624-71c61b7912c1"
      },
      "execution_count": 22,
      "outputs": [
        {
          "output_type": "stream",
          "name": "stdout",
          "text": [
            "{'Alice': 185, 'Bob': 85}\n"
          ]
        }
      ]
    },
    {
      "cell_type": "code",
      "source": [
        "words = [\"apple\", \"banana\", \"cherry\", \"date\"]\n",
        "word_length = {}\n",
        "\n",
        "for word in words:\n",
        "    word_length[word] = len(word)\n",
        "\n",
        "print(word_length)\n"
      ],
      "metadata": {
        "colab": {
          "base_uri": "https://localhost:8080/"
        },
        "id": "A1kIfrjQnIED",
        "outputId": "cf058976-c215-4e5e-abc4-9fd7e80358ba"
      },
      "execution_count": 23,
      "outputs": [
        {
          "output_type": "stream",
          "name": "stdout",
          "text": [
            "{'apple': 5, 'banana': 6, 'cherry': 6, 'date': 4}\n"
          ]
        }
      ]
    },
    {
      "cell_type": "code",
      "source": [
        "numbers_tuple = (1, 2, 3, 4, 5)\n",
        "doubled_tuple = tuple(x * 2 for x in numbers_tuple)\n",
        "print(doubled_tuple)"
      ],
      "metadata": {
        "colab": {
          "base_uri": "https://localhost:8080/"
        },
        "id": "kwuQ_wfgnfMG",
        "outputId": "85d7d82d-f2b2-4299-bdc4-f3a46db4edf5"
      },
      "execution_count": 24,
      "outputs": [
        {
          "output_type": "stream",
          "name": "stdout",
          "text": [
            "(2, 4, 6, 8, 10)\n"
          ]
        }
      ]
    },
    {
      "cell_type": "code",
      "source": [
        "def swap_first_last(tup):\n",
        "    if len(tup) > 1:\n",
        "        return (tup[-1],) + tup[1:-1] + (tup[0],)\n",
        "    return tup\n",
        "\n",
        "original_tuple = (1, 2, 3, 4, 5)\n",
        "swapped_tuple = swap_first_last(original_tuple)\n",
        "print(swapped_tuple)"
      ],
      "metadata": {
        "colab": {
          "base_uri": "https://localhost:8080/"
        },
        "id": "pDSYABd_nqOp",
        "outputId": "6482bcc1-b1ca-4dae-d535-96761898a272"
      },
      "execution_count": 25,
      "outputs": [
        {
          "output_type": "stream",
          "name": "stdout",
          "text": [
            "(5, 2, 3, 4, 1)\n"
          ]
        }
      ]
    },
    {
      "cell_type": "code",
      "source": [
        "tuple1 = (1, 2, 3, 4)\n",
        "tuple2 = (3, 4, 5, 6)\n",
        "\n",
        "result_tuple = tuple(set(tuple1) | set(tuple2))\n",
        "\n",
        "print(result_tuple)"
      ],
      "metadata": {
        "colab": {
          "base_uri": "https://localhost:8080/"
        },
        "id": "qJvFdAjaoDTd",
        "outputId": "c592ac80-ad9f-4fcc-f597-bc74fac558c5"
      },
      "execution_count": 26,
      "outputs": [
        {
          "output_type": "stream",
          "name": "stdout",
          "text": [
            "(1, 2, 3, 4, 5, 6)\n"
          ]
        }
      ]
    }
  ]
}
