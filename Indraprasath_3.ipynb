{
  "nbformat": 4,
  "nbformat_minor": 0,
  "metadata": {
    "colab": {
      "provenance": []
    },
    "kernelspec": {
      "name": "python3",
      "display_name": "Python 3"
    },
    "language_info": {
      "name": "python"
    }
  },
  "cells": [
    {
      "cell_type": "code",
      "execution_count": 14,
      "metadata": {
        "colab": {
          "base_uri": "https://localhost:8080/"
        },
        "id": "e-MVNpQPm0RP",
        "outputId": "441edebb-7564-4270-e2bf-931d66e47c68"
      },
      "outputs": [
        {
          "output_type": "stream",
          "name": "stdout",
          "text": [
            "[('Alice', 85), ('Bob', 42), ('Charlie', 73), ('Diana', 60), ('Eve', 29)]\n",
            "['A', 'F', 'B', 'C', 'F']\n",
            "[('Alice', 85), ('Charlie', 73), ('Diana', 60)]\n",
            "Total score: 289\n",
            "1. Alice\n",
            "2. Bob\n",
            "3. Charlie\n",
            "4. Diana\n",
            "5. Eve\n",
            "<class 'list'>\n",
            "135092350578496\n",
            "[1, 2, 3, 4, 5]\n"
          ]
        }
      ],
      "source": [
        "from functools import reduce\n",
        "\n",
        "names = [\"Alice\", \"Bob\", \"Charlie\", \"Diana\", \"Eve\"]\n",
        "scores = [85, 42, 73, 60, 29]\n",
        "paired  = list(zip(names, scores))\n",
        "print(paired)\n",
        "\n",
        "def get_grade(score):\n",
        "  if score >= 85:\n",
        "    return 'A'\n",
        "  elif score >= 70:\n",
        "    return 'B'\n",
        "  elif score >= 50:\n",
        "    return 'C'\n",
        "  else:\n",
        "    return 'F'\n",
        "grades = list(map(get_grade, scores))\n",
        "print(grades)\n",
        "\n",
        "def is_passed(pair):\n",
        "  return pair[1] >= 50\n",
        "passed_students = list(filter(is_passed, paired))\n",
        "print(passed_students)\n",
        "\n",
        "def add(x, y):\n",
        "  return x + y\n",
        "total_score = reduce(add, scores)\n",
        "print(f\"Total score: {total_score}\")\n",
        "\n",
        "for index, name in enumerate(names, start=1):\n",
        "    print(f\"{index}. {name}\")\n",
        "\n",
        "print(type(paired))\n",
        "\n",
        "print(id(scores))\n",
        "\n",
        "ranks = list(range(1, len(names) + 1))\n",
        "print(ranks)"
      ]
    },
    {
      "cell_type": "code",
      "source": [
        "class Vehicle:\n",
        "  vehicle_count = 0\n",
        "\n",
        "  def __init__(self, model, max_speed):\n",
        "    self.model = model\n",
        "    self._max_speed = max_speed\n",
        "    self.__vehicle_id = Vehicle.vehicle_count + 1\n",
        "    Vehicle.vehicle_count += 1\n",
        "\n",
        "  def display_info(self):\n",
        "    print(self.model, self._max_speed, self.__vehicle_id)\n",
        "\n",
        "  @classmethod\n",
        "  def get_vehicle_count(cls):\n",
        "    return cls.vehicle_count\n",
        "\n",
        "  @staticmethod\n",
        "  def is_speeding(speed):\n",
        "    return speed > 100\n",
        "\n",
        "class Truck(Vehicle):\n",
        "  def __init__(self, model, max_speed, cargo_capacity):\n",
        "    super().__init__(model, max_speed)\n",
        "    self.cargo_capacity = cargo_capacity\n",
        "\n",
        "  def display_info(self):\n",
        "    print(self.model, self._max_speed, self.cargo_capacity)\n",
        "\n",
        "v1 = Vehicle(\"Toyota Corolla\", 120)\n",
        "v2 = Vehicle(\"Honda Civic\", 90)\n",
        "t1 = Truck(\"Volvo FH\", 80, 3000)\n",
        "\n",
        "v1.display_info()\n",
        "t1.display_info()\n",
        "\n",
        "print(Vehicle.get_vehicle_count())\n",
        "print(Vehicle.is_speeding(110))\n",
        "print(Vehicle.is_speeding(70))"
      ],
      "metadata": {
        "colab": {
          "base_uri": "https://localhost:8080/"
        },
        "id": "dxLP5UjftGMa",
        "outputId": "7f658e17-ac30-4d22-dd7a-cc7f49c57dc6"
      },
      "execution_count": 21,
      "outputs": [
        {
          "output_type": "stream",
          "name": "stdout",
          "text": [
            "Toyota Corolla 120 1\n",
            "Volvo FH 80 3000\n",
            "3\n",
            "True\n",
            "False\n"
          ]
        }
      ]
    },
    {
      "cell_type": "code",
      "source": [
        "def uppercase_decorator(func):\n",
        "  def wrapper(name):\n",
        "    result = func(name)\n",
        "    return result.upper()\n",
        "  return wrapper\n",
        "\n",
        "@uppercase_decorator\n",
        "def greet_user(name):\n",
        "  return f\"HELLO, {name}!\"\n",
        "\n",
        "print(greet_user('Alice'))"
      ],
      "metadata": {
        "colab": {
          "base_uri": "https://localhost:8080/"
        },
        "id": "gR4Pas1FyrLW",
        "outputId": "47f0103c-9df8-4001-9037-e445941e202c"
      },
      "execution_count": 25,
      "outputs": [
        {
          "output_type": "stream",
          "name": "stdout",
          "text": [
            "HELLO, ALICE!\n"
          ]
        }
      ]
    }
  ]
}