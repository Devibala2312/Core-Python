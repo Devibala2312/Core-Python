{
  "nbformat": 4,
  "nbformat_minor": 0,
  "metadata": {
    "colab": {
      "provenance": []
    },
    "kernelspec": {
      "name": "python3",
      "display_name": "Python 3"
    },
    "language_info": {
      "name": "python"
    }
  },
  "cells": [
    {
      "cell_type": "markdown",
      "source": [
        "1.Write a Python program to count the number of characters in a string.,\n",
        ",Sample String : 'google.com'\n",
        ",\"Expected Result : {'o': 3, 'g': 2, '.': 1, 'e': 1, 'l': 1, 'm': 1, 'c': 1}\""
      ],
      "metadata": {
        "id": "at6aJDc0lrxN"
      }
    },
    {
      "cell_type": "code",
      "source": [
        "str = \"google.com\"\n",
        "\n",
        "dict = {}\n",
        "for n in str:\n",
        "  keys = dict.keys()\n",
        "  if n in keys:\n",
        "    dict[n] += 1\n",
        "  else:\n",
        "    dict[n] = 1\n",
        "print(dict)"
      ],
      "metadata": {
        "colab": {
          "base_uri": "https://localhost:8080/"
        },
        "id": "mS8H4QRUpjoj",
        "outputId": "aa476856-4c1d-4880-fbe9-684f02d0567c"
      },
      "execution_count": 24,
      "outputs": [
        {
          "output_type": "stream",
          "name": "stdout",
          "text": [
            "{'g': 2, 'o': 3, 'l': 1, 'e': 1, '.': 1, 'c': 1, 'm': 1}\n"
          ]
        }
      ]
    },
    {
      "cell_type": "markdown",
      "source": [
        "2. Write a Python program to count the number of strings where the string length is 2 or more and the first and last character are same from a given list of strings.,\n",
        ",\"Sample List : ['abc', 'xyz', 'aba', '1221']\""
      ],
      "metadata": {
        "id": "lfZP8NkNnJb1"
      }
    },
    {
      "cell_type": "code",
      "source": [
        "list = ['abc', 'xyz', 'aba', '1221']\n",
        "count = 0\n",
        "for n in list:\n",
        "  if len(n) >= 2 and n[0] == n[-1]:\n",
        "    count += 1\n",
        "print(count)"
      ],
      "metadata": {
        "colab": {
          "base_uri": "https://localhost:8080/"
        },
        "id": "UTs1a3oMpf2y",
        "outputId": "4e421351-49a9-482f-efac-5483386e7b76"
      },
      "execution_count": 23,
      "outputs": [
        {
          "output_type": "stream",
          "name": "stdout",
          "text": [
            "2\n"
          ]
        }
      ]
    },
    {
      "cell_type": "markdown",
      "source": [
        "3. Write a Python program to get a string made of the first 2 and the last 2 chars from a given a string. If the string length is less than 2, return instead the empty string\n"
      ],
      "metadata": {
        "id": "QGNW220JoQdb"
      }
    },
    {
      "cell_type": "code",
      "source": [
        "def string_ends(str):\n",
        "  if len(str)<2:\n",
        "    return \"\"\n",
        "  return str[:2]+str[-2:]\n",
        "\n",
        "print(string_ends('w3resource'))\n",
        "print(string_ends('w3'))\n",
        "print(string_ends('w'))"
      ],
      "metadata": {
        "colab": {
          "base_uri": "https://localhost:8080/"
        },
        "id": "SOHSkSrFpcab",
        "outputId": "b9ad07cf-e75c-4031-94f5-3cac043ad60b"
      },
      "execution_count": 25,
      "outputs": [
        {
          "output_type": "stream",
          "name": "stdout",
          "text": [
            "w3ce\n",
            "w3w3\n",
            "\n"
          ]
        }
      ]
    },
    {
      "cell_type": "markdown",
      "source": [
        "4 .Write a Python program to get a list, sorted in increasing order by the last element in each tuple from a given list of non-empty tuples. Go to the editor\",\n",
        ",\"Sample List : [(2, 5), (1, 2), (4, 4), (2, 3), (2, 1)]\"\n",
        ",\"Expected Result : [(2, 1), (1, 2), (2, 3), (4, 4), (2, 5)]\""
      ],
      "metadata": {
        "id": "Flhvw6sqpuTi"
      }
    },
    {
      "cell_type": "code",
      "source": [
        "def sort_list_last(tuples):\n",
        "  return sorted(tuples, key=lambda x: x[-1])\n",
        "\n",
        "print(sort_list_last([(2, 5), (1, 2), (4, 4), (2, 3), (2, 1)]))"
      ],
      "metadata": {
        "colab": {
          "base_uri": "https://localhost:8080/"
        },
        "id": "L6mBn9O_p9sT",
        "outputId": "6e41f7d7-ac8f-4c11-b595-9aa6737154a7"
      },
      "execution_count": 26,
      "outputs": [
        {
          "output_type": "stream",
          "name": "stdout",
          "text": [
            "[(2, 1), (1, 2), (2, 3), (4, 4), (2, 5)]\n"
          ]
        }
      ]
    },
    {
      "cell_type": "markdown",
      "source": [
        "5. Write a Python program to add 'ing' at the end of a given string (length should be at least 3). If the given string is already ends with 'ing' then add 'ly' instead. If the string length of the given string is less than 3, leave it unchanged\n"
      ],
      "metadata": {
        "id": "pE5egJ5EpzEA"
      }
    },
    {
      "cell_type": "code",
      "source": [
        "def add_string(str1):\n",
        "  length = len(str1)\n",
        "\n",
        "  if length > 2:\n",
        "    if str1[-3:] == 'ing':\n",
        "      str1 += 'ly'\n",
        "    else:\n",
        "      str1 += 'ing'\n",
        "\n",
        "  return str1"
      ],
      "metadata": {
        "id": "7Df4tcrWrObl"
      },
      "execution_count": 28,
      "outputs": []
    },
    {
      "cell_type": "code",
      "source": [
        "# prompt: 6. Create a list comprehension that generates a list of squares of numbers from 1 to 20.,\n",
        "\n",
        "squares = [x**2 for x in range(1,21)]\n",
        "squares\n"
      ],
      "metadata": {
        "colab": {
          "base_uri": "https://localhost:8080/"
        },
        "id": "MpEYfpH4rlRy",
        "outputId": "296d6d7e-e16a-4468-9531-b353f2f13346"
      },
      "execution_count": 30,
      "outputs": [
        {
          "output_type": "execute_result",
          "data": {
            "text/plain": [
              "[1,\n",
              " 4,\n",
              " 9,\n",
              " 16,\n",
              " 25,\n",
              " 36,\n",
              " 49,\n",
              " 64,\n",
              " 81,\n",
              " 100,\n",
              " 121,\n",
              " 144,\n",
              " 169,\n",
              " 196,\n",
              " 225,\n",
              " 256,\n",
              " 289,\n",
              " 324,\n",
              " 361,\n",
              " 400]"
            ]
          },
          "metadata": {},
          "execution_count": 30
        }
      ]
    },
    {
      "cell_type": "code",
      "source": [
        "#7. Given a list of integers, find the largest and smallest numbers in the list without using the built-in max() and min() functions.\"\n",
        "\n",
        "def find_largest_smallest(numbers):\n",
        "    if not numbers:\n",
        "        return None, None  # Handle empty list case\n",
        "\n",
        "    largest = numbers[0]\n",
        "    smallest = numbers[0]\n",
        "\n",
        "    for n in numbers:\n",
        "        if n > largest:\n",
        "            largest = n\n",
        "        elif n < smallest:\n",
        "            smallest = n\n",
        "\n",
        "    return largest, smallest\n",
        "\n",
        "# Example usage\n",
        "numbers = [-3, -1, 4, 1, 5, 9, 2, 6]\n",
        "largest, smallest = find_largest_smallest(numbers)\n",
        "print(f\"Largest: {largest}, Smallest: {smallest}\")"
      ],
      "metadata": {
        "colab": {
          "base_uri": "https://localhost:8080/"
        },
        "id": "9ISl20btsCUO",
        "outputId": "6811cad2-1f8f-4f09-dd99-399f9009a9bc"
      },
      "execution_count": 33,
      "outputs": [
        {
          "output_type": "stream",
          "name": "stdout",
          "text": [
            "Largest: 9, Smallest: -3\n"
          ]
        }
      ]
    },
    {
      "cell_type": "code",
      "source": [
        "# 8. Write a function that takes two lists and returns a set of elements that are common to both lists.,\n",
        "\n",
        "def common_elements(list1, list2):\n",
        "  \"\"\"\n",
        "  This function takes two lists and returns a set of elements that are common to both lists.\n",
        "  \"\"\"\n",
        "  return set(list1) & set(list2)\n",
        "\n",
        "common_elements([1, 2, 3, 4, 5], [4, 5, 6, 7, 8])\n"
      ],
      "metadata": {
        "colab": {
          "base_uri": "https://localhost:8080/"
        },
        "id": "S9ltn2qCscXx",
        "outputId": "a1ce87a6-305a-4c4c-bafd-ccfa2c5a28d3"
      },
      "execution_count": 35,
      "outputs": [
        {
          "output_type": "execute_result",
          "data": {
            "text/plain": [
              "{4, 5}"
            ]
          },
          "metadata": {},
          "execution_count": 35
        }
      ]
    },
    {
      "cell_type": "code",
      "source": [
        "# 9. Given a list of words, return a set of words that appear more than once in the list.\n",
        "\n",
        "def find_duplicate_words(word_list):\n",
        "\n",
        "    word_counts = {}\n",
        "    duplicates = set()\n",
        "\n",
        "    for word in word_list:\n",
        "        if word in word_counts:\n",
        "            word_counts[word] += 1\n",
        "            duplicates.add(word)\n",
        "        else:\n",
        "            word_counts[word] = 1\n",
        "\n",
        "    return duplicates\n",
        "\n",
        "find_duplicate_words([\"apple\", \"banana\", \"cherry\", \"banana\", \"date\", \"apple\"])\n"
      ],
      "metadata": {
        "colab": {
          "base_uri": "https://localhost:8080/"
        },
        "id": "N6cztPVHswBQ",
        "outputId": "0d89cb95-1c26-4074-9c27-e654a1bd57ca"
      },
      "execution_count": 37,
      "outputs": [
        {
          "output_type": "execute_result",
          "data": {
            "text/plain": [
              "{'apple', 'banana'}"
            ]
          },
          "metadata": {},
          "execution_count": 37
        }
      ]
    },
    {
      "cell_type": "code",
      "source": [
        "# 10. Given two sets, write a function to return their union, intersection, and difference.\n",
        "\n",
        "def set_operations(set1, set2):\n",
        "  \"\"\"\n",
        "  This function takes two sets and returns their union, intersection, and difference.\n",
        "  \"\"\"\n",
        "  union_set = set1.union(set2)\n",
        "  intersection_set = set1.intersection(set2)\n",
        "  difference_set = set1.difference(set2)\n",
        "  return union_set, intersection_set, difference_set\n",
        "\n",
        "# Example usage\n",
        "set1 = {1, 2, 3, 4, 5}\n",
        "set2 = {4, 5, 6, 7, 8}\n",
        "union, intersection, difference = set_operations(set1, set2)\n",
        "print(f\"Union: {union}\")\n",
        "print(f\"Intersection: {intersection}\")\n",
        "print(f\"Difference (set1 - set2): {difference}\")\n"
      ],
      "metadata": {
        "colab": {
          "base_uri": "https://localhost:8080/"
        },
        "id": "rUSUpuJKtm-P",
        "outputId": "e48de3ed-28e9-4588-a8d3-993a867eb99f"
      },
      "execution_count": 39,
      "outputs": [
        {
          "output_type": "stream",
          "name": "stdout",
          "text": [
            "Union: {1, 2, 3, 4, 5, 6, 7, 8}\n",
            "Intersection: {4, 5}\n",
            "Difference (set1 - set2): {1, 2, 3}\n"
          ]
        }
      ]
    },
    {
      "cell_type": "code",
      "source": [
        "# 11. Given a list of tuples where each tuple contains a name and a score (e.g., [('Alice', 90), ('Bob', 85), ('Alice', 95)]), write a function to return a dictionary where each name maps to the sum of their scores.\n",
        "\n",
        "def sum_scores(scores):\n",
        "  \"\"\"\n",
        "  This function takes a list of tuples (name, score) and returns a dictionary\n",
        "  mapping each name to the sum of their scores.\n",
        "  \"\"\"\n",
        "  name_scores = {}\n",
        "  for name, score in scores:\n",
        "    name_scores[name] = name_scores.get(name, 0) + score\n",
        "  return name_scores\n",
        "\n",
        "# Example usage\n",
        "scores = [('Alice', 90), ('Bob', 85), ('Alice', 95)]\n",
        "result = sum_scores(scores)\n",
        "print(result)  # Output: {'Alice': 185, 'Bob': 85}\n"
      ],
      "metadata": {
        "colab": {
          "base_uri": "https://localhost:8080/"
        },
        "id": "FvMRtVfUt41D",
        "outputId": "f74a1adc-534d-476a-bcdc-e2cfcf18c1ef"
      },
      "execution_count": 40,
      "outputs": [
        {
          "output_type": "stream",
          "name": "stdout",
          "text": [
            "{'Alice': 185, 'Bob': 85}\n"
          ]
        }
      ]
    },
    {
      "cell_type": "code",
      "source": [
        "# 12. Create a dictionary comprehension that maps each word in a list to its length.\n",
        "\n",
        "words = [\"apple\", \"banana\", \"cherry\"]\n",
        "word_lengths = {word: len(word) for word in words}\n",
        "word_lengths\n"
      ],
      "metadata": {
        "colab": {
          "base_uri": "https://localhost:8080/"
        },
        "id": "PG5oJKPYuRgJ",
        "outputId": "eefcdb33-f706-45bf-a40f-07855ec67e3c"
      },
      "execution_count": 41,
      "outputs": [
        {
          "output_type": "execute_result",
          "data": {
            "text/plain": [
              "{'apple': 5, 'banana': 6, 'cherry': 6}"
            ]
          },
          "metadata": {},
          "execution_count": 41
        }
      ]
    },
    {
      "cell_type": "code",
      "source": [
        "# 13. Write a function that takes a tuple of numbers and returns a new tuple with each element doubled,\n",
        "\n",
        "def double_tuple(numbers):\n",
        "    return tuple(x * 2 for x in numbers)\n",
        "\n",
        "double_tuple((0, 1, -2, -3, 4, 5))\n"
      ],
      "metadata": {
        "colab": {
          "base_uri": "https://localhost:8080/"
        },
        "id": "84YdfJ6uujhL",
        "outputId": "83fcb2c5-35b9-4af4-8f30-cd5f4360222c"
      },
      "execution_count": 45,
      "outputs": [
        {
          "output_type": "execute_result",
          "data": {
            "text/plain": [
              "(0, 2, -4, -6, 8, 10)"
            ]
          },
          "metadata": {},
          "execution_count": 45
        }
      ]
    },
    {
      "cell_type": "code",
      "source": [
        "# 14. Write a function that swaps the first and last elements of a tuple.,\n",
        "\n",
        "def swap_first_last(input_tuple):\n",
        "    if len(input_tuple) < 2:\n",
        "        return input_tuple\n",
        "    else:\n",
        "        return input_tuple[-1:] + input_tuple[1:-1] + input_tuple[:1]\n",
        "\n",
        "swap_first_last((1, 2, 3, 4, 5))\n"
      ],
      "metadata": {
        "colab": {
          "base_uri": "https://localhost:8080/"
        },
        "id": "tWZZJtW6u2xG",
        "outputId": "caf7830d-38ae-499b-c726-b1848ded8aab"
      },
      "execution_count": 48,
      "outputs": [
        {
          "output_type": "execute_result",
          "data": {
            "text/plain": [
              "(5, 2, 3, 4, 1)"
            ]
          },
          "metadata": {},
          "execution_count": 48
        }
      ]
    },
    {
      "cell_type": "code",
      "source": [
        "# 15. Write a function that takes two tuples and returns a new tuple that contains all elements from both tuples without any duplicates.,\n",
        "\n",
        "def combine_tuples(tuple1, tuple2):\n",
        "    return tuple(set(tuple1 + tuple2))\n",
        "\n",
        "combine_tuples((1, 2, 3), (3, 4, 5))\n",
        "\n",
        "\n"
      ],
      "metadata": {
        "colab": {
          "base_uri": "https://localhost:8080/"
        },
        "id": "oCrVNQDTvSDb",
        "outputId": "b6b3c31b-1e9e-4c18-d054-246474994367"
      },
      "execution_count": 49,
      "outputs": [
        {
          "output_type": "execute_result",
          "data": {
            "text/plain": [
              "(1, 2, 3, 4, 5)"
            ]
          },
          "metadata": {},
          "execution_count": 49
        }
      ]
    },
    {
      "cell_type": "code",
      "source": [
        "# 16. Write a program to find the factorial of a number using a while loop.,\n",
        "\n",
        "def factorial(n):\n",
        "    if n < 0:\n",
        "        return \"Factorial is not defined for negative numbers\"\n",
        "    elif n == 0:\n",
        "        return 1\n",
        "    else:\n",
        "        fact = 1\n",
        "        i = 1\n",
        "        while i <= n:\n",
        "            fact *= i\n",
        "            i += 1\n",
        "        return fact\n",
        "\n",
        "# Example usage\n",
        "number = 5\n",
        "result = factorial(number)\n",
        "print(f\"The factorial of {number} is {result}\")\n"
      ],
      "metadata": {
        "colab": {
          "base_uri": "https://localhost:8080/"
        },
        "id": "t1SkKBzyvkIN",
        "outputId": "e19a486e-e323-4b64-fabd-6a02ff267a71"
      },
      "execution_count": 50,
      "outputs": [
        {
          "output_type": "stream",
          "name": "stdout",
          "text": [
            "The factorial of 5 is 120\n"
          ]
        }
      ]
    },
    {
      "cell_type": "code",
      "source": [
        "# 17. Write a program that finds the sum of all even numbers from 1 to 100 using a for loop.\n",
        "sum_of_evens = 0\n",
        "for i in range(2, 101, 2):\n",
        "    sum_of_evens += i\n",
        "print(f\"The sum of all even numbers from 1 to 100 is: {sum_of_evens}\")\n"
      ],
      "metadata": {
        "colab": {
          "base_uri": "https://localhost:8080/"
        },
        "id": "3ywyMhZrv4yh",
        "outputId": "e98f13ed-7725-4467-9068-014147ec512a"
      },
      "execution_count": 51,
      "outputs": [
        {
          "output_type": "stream",
          "name": "stdout",
          "text": [
            "The sum of all even numbers from 1 to 100 is: 2550\n"
          ]
        }
      ]
    },
    {
      "cell_type": "code",
      "source": [
        "# 18. Write a program to count the number of vowels in a string using membership operators (in),\n",
        "\n",
        "def count_vowels(input_string):\n",
        "    vowels = \"aeiouAEIOU\"\n",
        "    vowel_count = 0\n",
        "    for char in input_string:\n",
        "        if char in vowels:\n",
        "            vowel_count += 1\n",
        "    return vowel_count\n",
        "\n",
        "count_vowels(\"Hello, World!\")\n"
      ],
      "metadata": {
        "colab": {
          "base_uri": "https://localhost:8080/"
        },
        "id": "Ng_fKie6wIs7",
        "outputId": "18f0d8d5-e518-4ec3-ed42-6dea5c6649e8"
      },
      "execution_count": 53,
      "outputs": [
        {
          "output_type": "execute_result",
          "data": {
            "text/plain": [
              "3"
            ]
          },
          "metadata": {},
          "execution_count": 53
        }
      ]
    },
    {
      "cell_type": "code",
      "source": [
        "# 19. Write a program that takes a number and determines if it's even or odd using the modulus operator %,\n",
        "\n",
        "def check_even_odd(number):\n",
        "    if number % 2 == 0:\n",
        "        return \"Even\"\n",
        "    else:\n",
        "        return \"Odd\"\n",
        "\n",
        "# Example usage\n",
        "number = 10\n",
        "result = check_even_odd(number)\n",
        "print(f\"The number {number} is {result}\")\n",
        "\n",
        "number = 7\n",
        "result = check_even_odd(number)\n",
        "print(f\"The number {number} is {result}\")\n"
      ],
      "metadata": {
        "colab": {
          "base_uri": "https://localhost:8080/"
        },
        "id": "veCPKiB0wVpq",
        "outputId": "de7d43b0-6b20-4949-8b09-414276ed2794"
      },
      "execution_count": 55,
      "outputs": [
        {
          "output_type": "stream",
          "name": "stdout",
          "text": [
            "The number 10 is Even\n",
            "The number 7 is Odd\n"
          ]
        }
      ]
    },
    {
      "cell_type": "code",
      "source": [
        "# 20. Write a program to check whether a person can vote (age >= 18) using logical operators,\n",
        "\n",
        "def check_vote_eligibility(age):\n",
        "    return age >= 18\n",
        "\n",
        "# Example usage\n",
        "age = 20\n",
        "if check_vote_eligibility(age):\n",
        "    print(\"This person can vote.\")\n",
        "else:\n",
        "    print(\"This person cannot vote.\")\n",
        "\n",
        "age = 15\n",
        "if check_vote_eligibility(age):\n",
        "    print(\"This person can vote.\")\n",
        "else:\n",
        "    print(\"This person cannot vote.\")\n"
      ],
      "metadata": {
        "colab": {
          "base_uri": "https://localhost:8080/"
        },
        "id": "ZOhP-0BBweWo",
        "outputId": "649b7919-ac7b-4936-d158-9f38643a97d4"
      },
      "execution_count": 57,
      "outputs": [
        {
          "output_type": "stream",
          "name": "stdout",
          "text": [
            "This person can vote.\n",
            "This person cannot vote.\n"
          ]
        }
      ]
    },
    {
      "cell_type": "code",
      "source": [
        "# 21. Write a program to yield positive number from the given listing using python generator,\"nums = [-3, -2, 0, 1, 2, 4, 5, 7]\"\n",
        "\n",
        "def positive_numbers(nums):\n",
        "    for num in nums:\n",
        "        if num > 0:\n",
        "            yield num\n",
        "\n",
        "nums = [-3, -2, 0, 1, 2, 4, 5, 7]\n",
        "for num in positive_numbers(nums):\n",
        "  print(num)\n"
      ],
      "metadata": {
        "colab": {
          "base_uri": "https://localhost:8080/"
        },
        "id": "S2V9MiJrwpe4",
        "outputId": "e842b8c2-e806-405a-d0a8-630196c63ede"
      },
      "execution_count": 61,
      "outputs": [
        {
          "output_type": "stream",
          "name": "stdout",
          "text": [
            "1\n",
            "2\n",
            "4\n",
            "5\n",
            "7\n"
          ]
        }
      ]
    },
    {
      "cell_type": "code",
      "source": [
        "# 22. Write a function name 'welcome' that prints a welcome message for the user using default argument,if user name provided that shoult print user name, otherwise default name should be printed\n",
        "\n",
        "def welcome(user_name=\"Guest\"):\n",
        "  print(f\"Welcome, {user_name}!\")\n",
        "\n",
        "welcome(\"Python\")\n"
      ],
      "metadata": {
        "colab": {
          "base_uri": "https://localhost:8080/"
        },
        "id": "FmBN5MmlxMUr",
        "outputId": "1843b4d0-d831-4e55-f263-694c1be9767b"
      },
      "execution_count": 64,
      "outputs": [
        {
          "output_type": "stream",
          "name": "stdout",
          "text": [
            "Welcome, Python!\n"
          ]
        }
      ]
    },
    {
      "cell_type": "code",
      "source": [
        "#23. Write a function sum_all(*args) that accepts any number of numeric arguments and returns their sum.,\"sum_all(1, 2, 3)\"\n",
        "\n",
        "def sum_all(*args):\n",
        "\n",
        "  total = 0\n",
        "  for num in args:\n",
        "    total += num\n",
        "  return total\n",
        "\n",
        "sum_all(1, 2, 3)"
      ],
      "metadata": {
        "colab": {
          "base_uri": "https://localhost:8080/"
        },
        "id": "NPSpASpHxqNh",
        "outputId": "711d50eb-2263-4a05-8616-ba65144ece55"
      },
      "execution_count": 68,
      "outputs": [
        {
          "output_type": "execute_result",
          "data": {
            "text/plain": [
              "6"
            ]
          },
          "metadata": {},
          "execution_count": 68
        }
      ]
    },
    {
      "cell_type": "code",
      "source": [
        "# 24. Write a function print_user_info(**kwargs) that accepts any number of keyword arguments and prints them in key: value format.,\"print_user_info(name=\"\"Alice\"\", age=25, city=\"\"NYC\"\")\"\n",
        "\n",
        "def print_user_info(**kwargs):\n",
        "    for key, value in kwargs.items():\n",
        "        print(f\"{key}: {value}\")\n",
        "\n",
        "print_user_info(name=\"Alice\", age=25, city=\"NYC\")\n"
      ],
      "metadata": {
        "colab": {
          "base_uri": "https://localhost:8080/"
        },
        "id": "qtdnesYPycEg",
        "outputId": "2ba98281-dbbb-4cd0-c9d6-16c2e35a2cc9"
      },
      "execution_count": 69,
      "outputs": [
        {
          "output_type": "stream",
          "name": "stdout",
          "text": [
            "name: Alice\n",
            "age: 25\n",
            "city: NYC\n"
          ]
        }
      ]
    },
    {
      "cell_type": "code",
      "source": [
        "# 25. Scopes - local & global:You have a global variable visits initialized to 0.Write a function track_visit(page) that:Increments the global visits by 1 each time it’s called.Creates a local variable called message like: \"\"User visited {page}. Total visits: {visits}\"\"Prints the message.\",\"Expected Behavior:visits = 0\n",
        "# track_visit(\"\"Home\"\")     # ➞ User visited Home. Total visits: 1\n",
        "# track_visit(\"\"About\"\")    # ➞ User visited About. Total visits: 2\n",
        "# print(visits)           # ➞ 2\n",
        "\n",
        "visits = 0\n",
        "\n",
        "def track_visit(page):\n",
        "    global visits\n",
        "    visits += 1\n",
        "    message = f\"User visited {page}. Total visits: {visits}\"\n",
        "    print(message)\n",
        "\n",
        "track_visit(\"Home\")     # ➞ User visited Home. Total visits: 1\n",
        "track_visit(\"About\")    # ➞ User visited About. Total visits: 2\n",
        "print(visits)           # ➞ 2\n"
      ],
      "metadata": {
        "colab": {
          "base_uri": "https://localhost:8080/"
        },
        "id": "wOXfuZw-yp2L",
        "outputId": "04fe7ce7-747e-4380-a73d-a0cf9374cc38"
      },
      "execution_count": 70,
      "outputs": [
        {
          "output_type": "stream",
          "name": "stdout",
          "text": [
            "User visited Home. Total visits: 1\n",
            "User visited About. Total visits: 2\n",
            "2\n"
          ]
        }
      ]
    }
  ]
}