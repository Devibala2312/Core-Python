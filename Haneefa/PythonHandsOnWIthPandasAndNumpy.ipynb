{
  "nbformat": 4,
  "nbformat_minor": 0,
  "metadata": {
    "colab": {
      "provenance": []
    },
    "kernelspec": {
      "name": "python3",
      "display_name": "Python 3"
    },
    "language_info": {
      "name": "python"
    }
  },
  "cells": [
    {
      "cell_type": "markdown",
      "source": [
        "1.Write a Python program to count the number of characters in a string.,\n",
        ",Sample String : 'google.com'\n",
        ",\"Expected Result : {'o': 3, 'g': 2, '.': 1, 'e': 1, 'l': 1, 'm': 1, 'c': 1}\""
      ],
      "metadata": {
        "id": "at6aJDc0lrxN"
      }
    },
    {
      "cell_type": "code",
      "source": [
        "str = \"google.com\"\n",
        "\n",
        "dict = {}\n",
        "for n in str:\n",
        "  keys = dict.keys()\n",
        "  if n in keys:\n",
        "    dict[n] += 1\n",
        "  else:\n",
        "    dict[n] = 1\n",
        "print(dict)"
      ],
      "metadata": {
        "colab": {
          "base_uri": "https://localhost:8080/"
        },
        "id": "mS8H4QRUpjoj",
        "outputId": "260419f4-8a99-4e52-ba58-ca3ba4537c58"
      },
      "execution_count": null,
      "outputs": [
        {
          "output_type": "stream",
          "name": "stdout",
          "text": [
            "{'g': 2, 'o': 3, 'l': 1, 'e': 1, '.': 1, 'c': 1, 'm': 1}\n"
          ]
        }
      ]
    },
    {
      "cell_type": "markdown",
      "source": [
        "2. Write a Python program to count the number of strings where the string length is 2 or more and the first and last character are same from a given list of strings.,\n",
        ",\"Sample List : ['abc', 'xyz', 'aba', '1221']\""
      ],
      "metadata": {
        "id": "lfZP8NkNnJb1"
      }
    },
    {
      "cell_type": "code",
      "source": [],
      "metadata": {
        "id": "9GfkNfCb3s5f"
      },
      "execution_count": null,
      "outputs": []
    },
    {
      "cell_type": "code",
      "source": [
        "list = ['abc', 'xyz', 'aba', '1221']\n",
        "count = 0\n",
        "for n in list:\n",
        "  if len(n) >= 2 and n[0] == n[-1]:\n",
        "    count += 1\n",
        "print(count)"
      ],
      "metadata": {
        "colab": {
          "base_uri": "https://localhost:8080/"
        },
        "id": "UTs1a3oMpf2y",
        "outputId": "4e421351-49a9-482f-efac-5483386e7b76"
      },
      "execution_count": null,
      "outputs": [
        {
          "output_type": "stream",
          "name": "stdout",
          "text": [
            "2\n"
          ]
        }
      ]
    },
    {
      "cell_type": "markdown",
      "source": [
        "3. Write a Python program to get a string made of the first 2 and the last 2 chars from a given a string. If the string length is less than 2, return instead the empty string\n"
      ],
      "metadata": {
        "id": "QGNW220JoQdb"
      }
    },
    {
      "cell_type": "code",
      "source": [
        "def string_ends(str):\n",
        "  if len(str)<2:\n",
        "    return \"\"\n",
        "  return str[:2]+str[-2:]\n",
        "\n",
        "print(string_ends('w3resource'))\n",
        "print(string_ends('w3'))\n",
        "print(string_ends('w'))"
      ],
      "metadata": {
        "colab": {
          "base_uri": "https://localhost:8080/"
        },
        "id": "SOHSkSrFpcab",
        "outputId": "b9ad07cf-e75c-4031-94f5-3cac043ad60b"
      },
      "execution_count": null,
      "outputs": [
        {
          "output_type": "stream",
          "name": "stdout",
          "text": [
            "w3ce\n",
            "w3w3\n",
            "\n"
          ]
        }
      ]
    },
    {
      "cell_type": "markdown",
      "source": [
        "4 .Write a Python program to get a list, sorted in increasing order by the last element in each tuple from a given list of non-empty tuples. Go to the editor\",\n",
        ",\"Sample List : [(2, 5), (1, 2), (4, 4), (2, 3), (2, 1)]\"\n",
        ",\"Expected Result : [(2, 1), (1, 2), (2, 3), (4, 4), (2, 5)]\""
      ],
      "metadata": {
        "id": "Flhvw6sqpuTi"
      }
    },
    {
      "cell_type": "code",
      "source": [
        "def sort_list_last(tuples):\n",
        "  return sorted(tuples, key=lambda x: x[-1])\n",
        "\n",
        "print(sort_list_last([(2, 5), (1, 2), (4, 4), (2, 3), (2, 1)]))"
      ],
      "metadata": {
        "colab": {
          "base_uri": "https://localhost:8080/"
        },
        "id": "L6mBn9O_p9sT",
        "outputId": "6e41f7d7-ac8f-4c11-b595-9aa6737154a7"
      },
      "execution_count": null,
      "outputs": [
        {
          "output_type": "stream",
          "name": "stdout",
          "text": [
            "[(2, 1), (1, 2), (2, 3), (4, 4), (2, 5)]\n"
          ]
        }
      ]
    },
    {
      "cell_type": "markdown",
      "source": [
        "5. Write a Python program to add 'ing' at the end of a given string (length should be at least 3). If the given string is already ends with 'ing' then add 'ly' instead. If the string length of the given string is less than 3, leave it unchanged\n"
      ],
      "metadata": {
        "id": "pE5egJ5EpzEA"
      }
    },
    {
      "cell_type": "code",
      "source": [
        "def add_string(str1):\n",
        "  length = len(str1)\n",
        "\n",
        "  if length > 2:\n",
        "    if str1[-3:] == 'ing':\n",
        "      str1 += 'ly'\n",
        "    else:\n",
        "      str1 += 'ing'\n",
        "\n",
        "  return str1"
      ],
      "metadata": {
        "id": "7Df4tcrWrObl"
      },
      "execution_count": null,
      "outputs": []
    },
    {
      "cell_type": "code",
      "source": [
        "# prompt: 6. Create a list comprehension that generates a list of squares of numbers from 1 to 20.,\n",
        "\n",
        "squares = [x**2 for x in range(1,21)]\n",
        "squares\n"
      ],
      "metadata": {
        "colab": {
          "base_uri": "https://localhost:8080/"
        },
        "id": "MpEYfpH4rlRy",
        "outputId": "296d6d7e-e16a-4468-9531-b353f2f13346"
      },
      "execution_count": null,
      "outputs": [
        {
          "output_type": "execute_result",
          "data": {
            "text/plain": [
              "[1,\n",
              " 4,\n",
              " 9,\n",
              " 16,\n",
              " 25,\n",
              " 36,\n",
              " 49,\n",
              " 64,\n",
              " 81,\n",
              " 100,\n",
              " 121,\n",
              " 144,\n",
              " 169,\n",
              " 196,\n",
              " 225,\n",
              " 256,\n",
              " 289,\n",
              " 324,\n",
              " 361,\n",
              " 400]"
            ]
          },
          "metadata": {},
          "execution_count": 30
        }
      ]
    },
    {
      "cell_type": "code",
      "source": [
        "#7. Given a list of integers, find the largest and smallest numbers in the list without using the built-in max() and min() functions.\"\n",
        "\n",
        "def find_largest_smallest(numbers):\n",
        "    if not numbers:\n",
        "        return None, None  # Handle empty list case\n",
        "\n",
        "    largest = numbers[0]\n",
        "    smallest = numbers[0]\n",
        "\n",
        "    for n in numbers:\n",
        "        if n > largest:\n",
        "            largest = n\n",
        "        elif n < smallest:\n",
        "            smallest = n\n",
        "\n",
        "    return largest, smallest\n",
        "\n",
        "# Example usage\n",
        "numbers = [-3, -1, 4, 1, 5, 9, 2, 6]\n",
        "largest, smallest = find_largest_smallest(numbers)\n",
        "print(f\"Largest: {largest}, Smallest: {smallest}\")"
      ],
      "metadata": {
        "colab": {
          "base_uri": "https://localhost:8080/"
        },
        "id": "9ISl20btsCUO",
        "outputId": "6811cad2-1f8f-4f09-dd99-399f9009a9bc"
      },
      "execution_count": null,
      "outputs": [
        {
          "output_type": "stream",
          "name": "stdout",
          "text": [
            "Largest: 9, Smallest: -3\n"
          ]
        }
      ]
    },
    {
      "cell_type": "code",
      "source": [
        "# 8. Write a function that takes two lists and returns a set of elements that are common to both lists.,\n",
        "\n",
        "def common_elements(list1, list2):\n",
        "  \"\"\"\n",
        "  This function takes two lists and returns a set of elements that are common to both lists.\n",
        "  \"\"\"\n",
        "  return set(list1) & set(list2)\n",
        "\n",
        "common_elements([1, 2, 3, 4, 5], [4, 5, 6, 7, 8])\n"
      ],
      "metadata": {
        "colab": {
          "base_uri": "https://localhost:8080/"
        },
        "id": "S9ltn2qCscXx",
        "outputId": "a1ce87a6-305a-4c4c-bafd-ccfa2c5a28d3"
      },
      "execution_count": null,
      "outputs": [
        {
          "output_type": "execute_result",
          "data": {
            "text/plain": [
              "{4, 5}"
            ]
          },
          "metadata": {},
          "execution_count": 35
        }
      ]
    },
    {
      "cell_type": "code",
      "source": [
        "# 9. Given a list of words, return a set of words that appear more than once in the list.\n",
        "\n",
        "def find_duplicate_words(word_list):\n",
        "\n",
        "    word_counts = {}\n",
        "    duplicates = set()\n",
        "\n",
        "    for word in word_list:\n",
        "        if word in word_counts:\n",
        "            word_counts[word] += 1\n",
        "            duplicates.add(word)\n",
        "        else:\n",
        "            word_counts[word] = 1\n",
        "\n",
        "    return duplicates\n",
        "\n",
        "find_duplicate_words([\"apple\", \"banana\", \"cherry\", \"banana\", \"date\", \"apple\"])\n"
      ],
      "metadata": {
        "colab": {
          "base_uri": "https://localhost:8080/"
        },
        "id": "N6cztPVHswBQ",
        "outputId": "0d89cb95-1c26-4074-9c27-e654a1bd57ca"
      },
      "execution_count": null,
      "outputs": [
        {
          "output_type": "execute_result",
          "data": {
            "text/plain": [
              "{'apple', 'banana'}"
            ]
          },
          "metadata": {},
          "execution_count": 37
        }
      ]
    },
    {
      "cell_type": "code",
      "source": [
        "# 10. Given two sets, write a function to return their union, intersection, and difference.\n",
        "\n",
        "def set_operations(set1, set2):\n",
        "  \"\"\"\n",
        "  This function takes two sets and returns their union, intersection, and difference.\n",
        "  \"\"\"\n",
        "  union_set = set1.union(set2)\n",
        "  intersection_set = set1.intersection(set2)\n",
        "  difference_set = set1.difference(set2)\n",
        "  return union_set, intersection_set, difference_set\n",
        "\n",
        "# Example usage\n",
        "set1 = {1, 2, 3, 4, 5}\n",
        "set2 = {4, 5, 6, 7, 8}\n",
        "union, intersection, difference = set_operations(set1, set2)\n",
        "print(f\"Union: {union}\")\n",
        "print(f\"Intersection: {intersection}\")\n",
        "print(f\"Difference (set1 - set2): {difference}\")\n"
      ],
      "metadata": {
        "colab": {
          "base_uri": "https://localhost:8080/"
        },
        "id": "rUSUpuJKtm-P",
        "outputId": "e48de3ed-28e9-4588-a8d3-993a867eb99f"
      },
      "execution_count": null,
      "outputs": [
        {
          "output_type": "stream",
          "name": "stdout",
          "text": [
            "Union: {1, 2, 3, 4, 5, 6, 7, 8}\n",
            "Intersection: {4, 5}\n",
            "Difference (set1 - set2): {1, 2, 3}\n"
          ]
        }
      ]
    },
    {
      "cell_type": "code",
      "source": [
        "# 11. Given a list of tuples where each tuple contains a name and a score (e.g., [('Alice', 90), ('Bob', 85), ('Alice', 95)]), write a function to return a dictionary where each name maps to the sum of their scores.\n",
        "\n",
        "def sum_scores(scores):\n",
        "  \"\"\"\n",
        "  This function takes a list of tuples (name, score) and returns a dictionary\n",
        "  mapping each name to the sum of their scores.\n",
        "  \"\"\"\n",
        "  name_scores = {}\n",
        "  for name, score in scores:\n",
        "    name_scores[name] = name_scores.get(name, 0) + score\n",
        "  return name_scores\n",
        "\n",
        "# Example usage\n",
        "scores = [('Alice', 90), ('Bob', 85), ('Alice', 95)]\n",
        "result = sum_scores(scores)\n",
        "print(result)  # Output: {'Alice': 185, 'Bob': 85}\n"
      ],
      "metadata": {
        "colab": {
          "base_uri": "https://localhost:8080/"
        },
        "id": "FvMRtVfUt41D",
        "outputId": "f74a1adc-534d-476a-bcdc-e2cfcf18c1ef"
      },
      "execution_count": null,
      "outputs": [
        {
          "output_type": "stream",
          "name": "stdout",
          "text": [
            "{'Alice': 185, 'Bob': 85}\n"
          ]
        }
      ]
    },
    {
      "cell_type": "code",
      "source": [
        "# 12. Create a dictionary comprehension that maps each word in a list to its length.\n",
        "\n",
        "words = [\"apple\", \"banana\", \"cherry\"]\n",
        "word_lengths = {word: len(word) for word in words}\n",
        "word_lengths\n"
      ],
      "metadata": {
        "colab": {
          "base_uri": "https://localhost:8080/"
        },
        "id": "PG5oJKPYuRgJ",
        "outputId": "eefcdb33-f706-45bf-a40f-07855ec67e3c"
      },
      "execution_count": null,
      "outputs": [
        {
          "output_type": "execute_result",
          "data": {
            "text/plain": [
              "{'apple': 5, 'banana': 6, 'cherry': 6}"
            ]
          },
          "metadata": {},
          "execution_count": 41
        }
      ]
    },
    {
      "cell_type": "code",
      "source": [
        "# 13. Write a function that takes a tuple of numbers and returns a new tuple with each element doubled,\n",
        "\n",
        "def double_tuple(numbers):\n",
        "    return tuple(x * 2 for x in numbers)\n",
        "\n",
        "double_tuple((0, 1, -2, -3, 4, 5))\n"
      ],
      "metadata": {
        "colab": {
          "base_uri": "https://localhost:8080/"
        },
        "id": "84YdfJ6uujhL",
        "outputId": "83fcb2c5-35b9-4af4-8f30-cd5f4360222c"
      },
      "execution_count": null,
      "outputs": [
        {
          "output_type": "execute_result",
          "data": {
            "text/plain": [
              "(0, 2, -4, -6, 8, 10)"
            ]
          },
          "metadata": {},
          "execution_count": 45
        }
      ]
    },
    {
      "cell_type": "code",
      "source": [
        "# 14. Write a function that swaps the first and last elements of a tuple.,\n",
        "\n",
        "def swap_first_last(input_tuple):\n",
        "    if len(input_tuple) < 2:\n",
        "        return input_tuple\n",
        "    else:\n",
        "        return input_tuple[-1:] + input_tuple[1:-1] + input_tuple[:1]\n",
        "\n",
        "swap_first_last((1, 2, 3, 4, 5))\n"
      ],
      "metadata": {
        "colab": {
          "base_uri": "https://localhost:8080/"
        },
        "id": "tWZZJtW6u2xG",
        "outputId": "caf7830d-38ae-499b-c726-b1848ded8aab"
      },
      "execution_count": null,
      "outputs": [
        {
          "output_type": "execute_result",
          "data": {
            "text/plain": [
              "(5, 2, 3, 4, 1)"
            ]
          },
          "metadata": {},
          "execution_count": 48
        }
      ]
    },
    {
      "cell_type": "code",
      "source": [
        "# 15. Write a function that takes two tuples and returns a new tuple that contains all elements from both tuples without any duplicates.,\n",
        "\n",
        "def combine_tuples(tuple1, tuple2):\n",
        "    return tuple(set(tuple1 + tuple2))\n",
        "\n",
        "combine_tuples((1, 2, 3), (3, 4, 5))\n",
        "\n",
        "\n"
      ],
      "metadata": {
        "colab": {
          "base_uri": "https://localhost:8080/"
        },
        "id": "oCrVNQDTvSDb",
        "outputId": "b6b3c31b-1e9e-4c18-d054-246474994367"
      },
      "execution_count": null,
      "outputs": [
        {
          "output_type": "execute_result",
          "data": {
            "text/plain": [
              "(1, 2, 3, 4, 5)"
            ]
          },
          "metadata": {},
          "execution_count": 49
        }
      ]
    },
    {
      "cell_type": "code",
      "source": [
        "# 16. Write a program to find the factorial of a number using a while loop.,\n",
        "\n",
        "def factorial(n):\n",
        "    if n < 0:\n",
        "        return \"Factorial is not defined for negative numbers\"\n",
        "    elif n == 0:\n",
        "        return 1\n",
        "    else:\n",
        "        fact = 1\n",
        "        i = 1\n",
        "        while i <= n:\n",
        "            fact *= i\n",
        "            i += 1\n",
        "        return fact\n",
        "\n",
        "# Example usage\n",
        "number = 5\n",
        "result = factorial(number)\n",
        "print(f\"The factorial of {number} is {result}\")\n"
      ],
      "metadata": {
        "colab": {
          "base_uri": "https://localhost:8080/"
        },
        "id": "t1SkKBzyvkIN",
        "outputId": "e19a486e-e323-4b64-fabd-6a02ff267a71"
      },
      "execution_count": null,
      "outputs": [
        {
          "output_type": "stream",
          "name": "stdout",
          "text": [
            "The factorial of 5 is 120\n"
          ]
        }
      ]
    },
    {
      "cell_type": "code",
      "source": [
        "# 17. Write a program that finds the sum of all even numbers from 1 to 100 using a for loop.\n",
        "sum_of_evens = 0\n",
        "for i in range(2, 101, 2):\n",
        "    sum_of_evens += i\n",
        "print(f\"The sum of all even numbers from 1 to 100 is: {sum_of_evens}\")\n"
      ],
      "metadata": {
        "colab": {
          "base_uri": "https://localhost:8080/"
        },
        "id": "3ywyMhZrv4yh",
        "outputId": "e98f13ed-7725-4467-9068-014147ec512a"
      },
      "execution_count": null,
      "outputs": [
        {
          "output_type": "stream",
          "name": "stdout",
          "text": [
            "The sum of all even numbers from 1 to 100 is: 2550\n"
          ]
        }
      ]
    },
    {
      "cell_type": "code",
      "source": [
        "# 18. Write a program to count the number of vowels in a string using membership operators (in),\n",
        "\n",
        "def count_vowels(input_string):\n",
        "    vowels = \"aeiouAEIOU\"\n",
        "    vowel_count = 0\n",
        "    for char in input_string:\n",
        "        if char in vowels:\n",
        "            vowel_count += 1\n",
        "    return vowel_count\n",
        "\n",
        "count_vowels(\"Hello, World!\")\n"
      ],
      "metadata": {
        "colab": {
          "base_uri": "https://localhost:8080/"
        },
        "id": "Ng_fKie6wIs7",
        "outputId": "18f0d8d5-e518-4ec3-ed42-6dea5c6649e8"
      },
      "execution_count": null,
      "outputs": [
        {
          "output_type": "execute_result",
          "data": {
            "text/plain": [
              "3"
            ]
          },
          "metadata": {},
          "execution_count": 53
        }
      ]
    },
    {
      "cell_type": "code",
      "source": [
        "# 19. Write a program that takes a number and determines if it's even or odd using the modulus operator %,\n",
        "\n",
        "def check_even_odd(number):\n",
        "    if number % 2 == 0:\n",
        "        return \"Even\"\n",
        "    else:\n",
        "        return \"Odd\"\n",
        "\n",
        "# Example usage\n",
        "number = 10\n",
        "result = check_even_odd(number)\n",
        "print(f\"The number {number} is {result}\")\n",
        "\n",
        "number = 7\n",
        "result = check_even_odd(number)\n",
        "print(f\"The number {number} is {result}\")\n"
      ],
      "metadata": {
        "colab": {
          "base_uri": "https://localhost:8080/"
        },
        "id": "veCPKiB0wVpq",
        "outputId": "de7d43b0-6b20-4949-8b09-414276ed2794"
      },
      "execution_count": null,
      "outputs": [
        {
          "output_type": "stream",
          "name": "stdout",
          "text": [
            "The number 10 is Even\n",
            "The number 7 is Odd\n"
          ]
        }
      ]
    },
    {
      "cell_type": "code",
      "source": [
        "# 20. Write a program to check whether a person can vote (age >= 18) using logical operators,\n",
        "\n",
        "def check_vote_eligibility(age):\n",
        "    return age >= 18\n",
        "\n",
        "# Example usage\n",
        "age = 20\n",
        "if check_vote_eligibility(age):\n",
        "    print(\"This person can vote.\")\n",
        "else:\n",
        "    print(\"This person cannot vote.\")\n",
        "\n",
        "age = 15\n",
        "if check_vote_eligibility(age):\n",
        "    print(\"This person can vote.\")\n",
        "else:\n",
        "    print(\"This person cannot vote.\")\n"
      ],
      "metadata": {
        "colab": {
          "base_uri": "https://localhost:8080/"
        },
        "id": "ZOhP-0BBweWo",
        "outputId": "649b7919-ac7b-4936-d158-9f38643a97d4"
      },
      "execution_count": null,
      "outputs": [
        {
          "output_type": "stream",
          "name": "stdout",
          "text": [
            "This person can vote.\n",
            "This person cannot vote.\n"
          ]
        }
      ]
    },
    {
      "cell_type": "code",
      "source": [
        "# 21. Write a program to yield positive number from the given listing using python generator,\"nums = [-3, -2, 0, 1, 2, 4, 5, 7]\"\n",
        "\n",
        "def positive_numbers(nums):\n",
        "    for num in nums:\n",
        "        if num > 0:\n",
        "            yield num\n",
        "\n",
        "nums = [-3, -2, 0, 1, 2, 4, 5, 7]\n",
        "for num in positive_numbers(nums):\n",
        "  print(num)\n"
      ],
      "metadata": {
        "colab": {
          "base_uri": "https://localhost:8080/"
        },
        "id": "S2V9MiJrwpe4",
        "outputId": "e842b8c2-e806-405a-d0a8-630196c63ede"
      },
      "execution_count": null,
      "outputs": [
        {
          "output_type": "stream",
          "name": "stdout",
          "text": [
            "1\n",
            "2\n",
            "4\n",
            "5\n",
            "7\n"
          ]
        }
      ]
    },
    {
      "cell_type": "code",
      "source": [
        "# 22. Write a function name 'welcome' that prints a welcome message for the user using default argument,if user name provided that shoult print user name, otherwise default name should be printed\n",
        "\n",
        "def welcome(user_name=\"Guest\"):\n",
        "  print(f\"Welcome, {user_name}!\")\n",
        "\n",
        "welcome(\"Python\")\n"
      ],
      "metadata": {
        "colab": {
          "base_uri": "https://localhost:8080/"
        },
        "id": "FmBN5MmlxMUr",
        "outputId": "1843b4d0-d831-4e55-f263-694c1be9767b"
      },
      "execution_count": null,
      "outputs": [
        {
          "output_type": "stream",
          "name": "stdout",
          "text": [
            "Welcome, Python!\n"
          ]
        }
      ]
    },
    {
      "cell_type": "code",
      "source": [
        "#23. Write a function sum_all(*args) that accepts any number of numeric arguments and returns their sum.,\"sum_all(1, 2, 3)\"\n",
        "\n",
        "def sum_all(*args):\n",
        "\n",
        "  total = 0\n",
        "  for num in args:\n",
        "    total += num\n",
        "  return total\n",
        "\n",
        "sum_all(1, 2, 3)"
      ],
      "metadata": {
        "colab": {
          "base_uri": "https://localhost:8080/"
        },
        "id": "NPSpASpHxqNh",
        "outputId": "711d50eb-2263-4a05-8616-ba65144ece55"
      },
      "execution_count": null,
      "outputs": [
        {
          "output_type": "execute_result",
          "data": {
            "text/plain": [
              "6"
            ]
          },
          "metadata": {},
          "execution_count": 68
        }
      ]
    },
    {
      "cell_type": "code",
      "source": [
        "# 24. Write a function print_user_info(**kwargs) that accepts any number of keyword arguments and prints them in key: value format.,\"print_user_info(name=\"\"Alice\"\", age=25, city=\"\"NYC\"\")\"\n",
        "\n",
        "def print_user_info(**kwargs):\n",
        "    for key, value in kwargs.items():\n",
        "        print(f\"{key}: {value}\")\n",
        "\n",
        "print_user_info(name=\"Alice\", age=25, city=\"NYC\")\n"
      ],
      "metadata": {
        "colab": {
          "base_uri": "https://localhost:8080/"
        },
        "id": "qtdnesYPycEg",
        "outputId": "2ba98281-dbbb-4cd0-c9d6-16c2e35a2cc9"
      },
      "execution_count": null,
      "outputs": [
        {
          "output_type": "stream",
          "name": "stdout",
          "text": [
            "name: Alice\n",
            "age: 25\n",
            "city: NYC\n"
          ]
        }
      ]
    },
    {
      "cell_type": "code",
      "source": [
        "# 25. Scopes - local & global:You have a global variable visits initialized to 0.Write a function track_visit(page) that:Increments the global visits by 1 each time it’s called.Creates a local variable called message like: \"\"User visited {page}. Total visits: {visits}\"\"Prints the message.\",\"Expected Behavior:visits = 0\n",
        "# track_visit(\"\"Home\"\")     # ➞ User visited Home. Total visits: 1\n",
        "# track_visit(\"\"About\"\")    # ➞ User visited About. Total visits: 2\n",
        "# print(visits)           # ➞ 2\n",
        "\n",
        "visits = 0\n",
        "\n",
        "def track_visit(page):\n",
        "    global visits\n",
        "    visits += 1\n",
        "    message = f\"User visited {page}. Total visits: {visits}\"\n",
        "    print(message)\n",
        "\n",
        "track_visit(\"Home\")     # ➞ User visited Home. Total visits: 1\n",
        "track_visit(\"About\")    # ➞ User visited About. Total visits: 2\n",
        "print(visits)           # ➞ 2\n"
      ],
      "metadata": {
        "colab": {
          "base_uri": "https://localhost:8080/"
        },
        "id": "wOXfuZw-yp2L",
        "outputId": "55e04fa6-d063-4d24-f15b-8de749b5b45f"
      },
      "execution_count": 135,
      "outputs": [
        {
          "output_type": "stream",
          "name": "stdout",
          "text": [
            "User visited Home. Total visits: 1\n",
            "User visited About. Total visits: 2\n",
            "2\n"
          ]
        }
      ]
    },
    {
      "cell_type": "markdown",
      "source": [
        "## **Python OOPS Hands on**\n"
      ],
      "metadata": {
        "id": "NBu9uwZ9K3dG"
      }
    },
    {
      "cell_type": "code",
      "source": [
        "# 26. Builtin functions\n",
        "# You are given two lists:\n",
        "# A list of student names\n",
        "# A list of scores they received in a test.\n",
        "# names = [\"Alice\", \"Bob\", \"Charlie\", \"Diana\", \"Eve\"]\n",
        "# scores = [85, 42, 73, 60, 29]\n",
        "# Using Python, do the following:\n",
        "# -----------------------------------------\n",
        "from functools import reduce\n",
        "\n",
        "names = [\"Alice\", \"Bob\", \"Charlie\", \"Diana\", \"Eve\"]\n",
        "scores = [85, 42, 73, 60, 29]\n",
        "\n",
        "\n",
        "# 1. Pair names with scores\n",
        "zippedPair = list(zip(names, scores))\n",
        "print(\"Zipped pair:\",zippedPair)\n",
        "\n",
        "# 2. Use map() to convert the scores into letter grades:\n",
        "def get_grade(score):\n",
        "    if score >= 85:\n",
        "        return 'A'\n",
        "    elif score >= 70:\n",
        "        return 'B'\n",
        "    elif score >= 50:\n",
        "        return 'C'\n",
        "    else:\n",
        "        return 'F'\n",
        "\n",
        "print(\"Grades:\" , list(map(get_grade, scores)))\n",
        "\n",
        "# 3.Use filter() to get only the students who passed (score ≥ 50).\n",
        "print(\"Passing students:\",list(filter(lambda x: x[1] >= 50, zippedPair)))\n",
        "\n",
        "# 4.Use reduce() to calculate the total score.\n",
        "print(\"Total score:\",reduce(lambda x, y: x + y, scores))\n",
        "\n",
        "# 5. Enumerate students\n",
        "for index, name in enumerate(names,11):\n",
        "    print(f\"{index}. {name}\")\n",
        "\n",
        "# 6. Print type of paired data\n",
        "print(type(zippedPair))\n",
        "\n",
        "# # 7. Print memory address of scores list\n",
        "print(id(scores))\n",
        "\n",
        "# # 8. Generate and print ranks\n",
        "sorted_name = sorted(zippedPair, key=lambda x: x[1], reverse=True)\n",
        "for rank,(name,score) in enumerate(sorted_name,1):\n",
        "  print(f\"{rank}. {name} - {score}\")\n"
      ],
      "metadata": {
        "colab": {
          "base_uri": "https://localhost:8080/"
        },
        "id": "dwkHAucbLVj7",
        "outputId": "c173aaee-8077-4b8e-a305-875d19468751"
      },
      "execution_count": 193,
      "outputs": [
        {
          "output_type": "stream",
          "name": "stdout",
          "text": [
            "Zipped pair: [('Alice', 85), ('Bob', 42), ('Charlie', 73), ('Diana', 60), ('Eve', 29)]\n",
            "Grades: ['A', 'F', 'B', 'C', 'F']\n",
            "Passing students: [('Alice', 85), ('Charlie', 73), ('Diana', 60)]\n",
            "Total score: 289\n",
            "11. Alice\n",
            "12. Bob\n",
            "13. Charlie\n",
            "14. Diana\n",
            "15. Eve\n",
            "<class 'list'>\n",
            "137403318625664\n",
            "1. Alice - 85\n",
            "2. Charlie - 73\n",
            "3. Diana - 60\n",
            "4. Bob - 42\n",
            "5. Eve - 29\n"
          ]
        }
      ]
    },
    {
      "cell_type": "code",
      "source": [
        "# 27. Create a class Vehicle:\n",
        "# -Public attribute: model\n",
        "# -Protected attribute: max_speed\n",
        "# -Private attribute: vehicle_id (auto-incremented)\n",
        "# -Instance method display_info() to show vehicle info\n",
        "# -Class method get_vehicle_count() to return total vehicles\n",
        "# -Static method is_speeding(speed) → return True if speed > 100\n",
        "# -Class variable for vehicle count\n",
        "# -Create a subclass Truck:\n",
        "#    -Adds cargo_capacity attribute\n",
        "#    -Overrides display_info() to include cargo capacity\n",
        "\n",
        "class Vehicle:\n",
        "    vehicle_count = 0\n",
        "\n",
        "    def __init__(self, model, max_speed):\n",
        "        self.model = model\n",
        "        self._max_speed = max_speed\n",
        "        self.__vehicle_id = Vehicle.vehicle_count\n",
        "        Vehicle.vehicle_count += 1\n",
        "\n",
        "    def display_info(self):\n",
        "        print(f\"Model: {self.model}, Max Speed: {self._max_speed}, Vehicle ID: {self.__vehicle_id}\")\n",
        "\n",
        "    @classmethod\n",
        "    def get_vehicle_count(cls):\n",
        "        return cls.vehicle_count\n",
        "\n",
        "    @staticmethod\n",
        "    def is_speeding(speed):\n",
        "        return speed > 100\n",
        "\n",
        "\n",
        "class Truck(Vehicle):\n",
        "    def __init__(self, model, max_speed, cargo_capacity):\n",
        "        super().__init__(model, max_speed)\n",
        "        self.cargo_capacity = cargo_capacity\n",
        "\n",
        "    def display_info(self):\n",
        "        super().display_info()\n",
        "        print(f\"Cargo Capacity: {self.cargo_capacity}\")\n",
        "\n",
        "\n",
        "# Example usage\n",
        "v1 = Vehicle(\"Sedan\", 90)\n",
        "v2 = Vehicle(\"Coupe\", 120)\n",
        "t1 = Truck(\"Volvo Truck\", 85, 15)\n",
        "\n",
        "v1.display_info()\n",
        "print(\"---\")\n",
        "t1.display_info()\n",
        "print(\"---\")\n",
        "print(\"Total vehicles:\", v1.get_vehicle_count())\n",
        "print(\"Is 110 speeding?\", v1.is_speeding(110))\n",
        "\n",
        "print(f\"Total vehicles: {t1.get_vehicle_count()}\")\n",
        "print(f\"Is truck speeding? {t1.is_speeding(t1._max_speed)}\")\n"
      ],
      "metadata": {
        "colab": {
          "base_uri": "https://localhost:8080/"
        },
        "id": "vWl8CNWMLTKJ",
        "outputId": "a4e2a21e-a881-4bee-d0fc-f84e0d76e8e2"
      },
      "execution_count": 239,
      "outputs": [
        {
          "output_type": "stream",
          "name": "stdout",
          "text": [
            "Model: Sedan, Max Speed: 90, Vehicle ID: 0\n",
            "---\n",
            "Model: Volvo Truck, Max Speed: 85, Vehicle ID: 2\n",
            "Cargo Capacity: 15\n",
            "---\n",
            "Total vehicles: 3\n",
            "Is 110 speeding? True\n",
            "Total vehicles: 3\n",
            "Is truck speeding? False\n"
          ]
        }
      ]
    },
    {
      "cell_type": "code",
      "source": [
        "# 28. Decorator:\n",
        "# Create a function called greet_user(name) that returns a string:\n",
        "# \"Hello, <name>!\" (where <name> is the input parameter).\n",
        "# Write a decorator called uppercase_decorator that modifies the function\n",
        "# it decorates so that the returned string is converted to uppercase.\n",
        "\n",
        "\n",
        "def uppercase_decorator(func):\n",
        "  def wrapper(args):\n",
        "    result = func(args)\n",
        "    return result.upper()\n",
        "  return wrapper\n",
        "\n",
        "@uppercase_decorator\n",
        "def greet_user(name):\n",
        "  return(f\"Hello, {name}!\")\n",
        "\n",
        "greet_user(\"Alice\")\n"
      ],
      "metadata": {
        "colab": {
          "base_uri": "https://localhost:8080/",
          "height": 35
        },
        "id": "51SThFxTWuFR",
        "outputId": "38811484-df68-4cc5-e227-7046f403d321"
      },
      "execution_count": 250,
      "outputs": [
        {
          "output_type": "execute_result",
          "data": {
            "text/plain": [
              "'HELLO, ALICE!'"
            ],
            "application/vnd.google.colaboratory.intrinsic+json": {
              "type": "string"
            }
          },
          "metadata": {},
          "execution_count": 250
        }
      ]
    },
    {
      "cell_type": "markdown",
      "source": [
        "## **NUMPY and Pandas HandsOn**\n",
        "\n"
      ],
      "metadata": {
        "id": "Rdn_l95WKghU"
      }
    },
    {
      "cell_type": "code",
      "source": [
        "import numpy as np\n",
        "np.arange(5,11)\n"
      ],
      "metadata": {
        "colab": {
          "base_uri": "https://localhost:8080/"
        },
        "id": "LoWLKjgOtqqs",
        "outputId": "889a3550-d11f-4175-817c-a78530f47199"
      },
      "execution_count": 9,
      "outputs": [
        {
          "output_type": "execute_result",
          "data": {
            "text/plain": [
              "array([ 5,  6,  7,  8,  9, 10])"
            ]
          },
          "metadata": {},
          "execution_count": 9
        }
      ]
    },
    {
      "cell_type": "code",
      "source": [
        "import numpy as np\n",
        "\n",
        "random_array = np.random.randint(0,100,size=(3,3))\n",
        "\n",
        "even_count = 0\n",
        "for n in random_array:\n",
        "  for d in n:\n",
        "    if(d%2==0):\n",
        "      even_count=even_count+1\n",
        "\n",
        "\n",
        "print(\"2D Array:\\n\", random_array)\n",
        "print(\"Count of even numbers:\", even_count)\n"
      ],
      "metadata": {
        "colab": {
          "base_uri": "https://localhost:8080/"
        },
        "id": "ORx2bsAzuJD4",
        "outputId": "49951bde-426a-4c5b-d94f-9c9656ca500a"
      },
      "execution_count": 27,
      "outputs": [
        {
          "output_type": "stream",
          "name": "stdout",
          "text": [
            "2D Array:\n",
            " [[95 51 95]\n",
            " [ 3 93 22]\n",
            " [14 42 28]]\n",
            "Count of even numbers: 4\n"
          ]
        }
      ]
    },
    {
      "cell_type": "code",
      "source": [
        "np3 = np.random.randint(0,100,size=(5,4))\n",
        "\n",
        "\n",
        "print(np3.mean(),\"\\n\")\n",
        "\n",
        "for n in np3:\n",
        "  print(n.mean())\n",
        "\n",
        "print(\"\\n2D Array:\\n\", np3)\n",
        "\n",
        "print(\"\\nColumn-wise means:\\n\", np.mean(np3, axis=0))\n",
        "\n",
        "print(\"\\nOverall standard deviation:\\n\", np.std(np3))\n",
        "\n",
        "\n",
        "\n"
      ],
      "metadata": {
        "colab": {
          "base_uri": "https://localhost:8080/"
        },
        "id": "SKP1HUnEua4O",
        "outputId": "ee58469d-d894-4bb7-9376-49c64d137c4c"
      },
      "execution_count": 57,
      "outputs": [
        {
          "output_type": "stream",
          "name": "stdout",
          "text": [
            "50.65 \n",
            "\n",
            "46.0\n",
            "40.0\n",
            "53.0\n",
            "51.75\n",
            "62.5\n",
            "\n",
            "2D Array:\n",
            " [[15 71 75 23]\n",
            " [27  7 91 35]\n",
            " [89  7 57 59]\n",
            " [49 27 91 40]\n",
            " [99 63 26 62]]\n",
            "\n",
            "Column-wise means:\n",
            " [55.8 35.  68.  43.8]\n",
            "\n",
            "Overall standard deviation:\n",
            " 28.632629987481067\n"
          ]
        }
      ]
    },
    {
      "cell_type": "code",
      "source": [
        "import pandas as pd\n",
        "\n",
        "data ={\n",
        "    'name': ['Alice', 'Bob', 'Jefin', 'David', 'Jude'],\n",
        "    'math_score': [80, 64, 90, 72, 56],\n",
        "    'english_score': [78, 85, 88, 69, 60]\n",
        "}\n",
        "\n",
        "df = pd.DataFrame(data)\n",
        "\n",
        "df = df.rename(columns={'name':'student_name'})\n",
        "\n",
        "df['average'] = ((df.math_score+df.english_score)//2).astype(np.int8)\n",
        "\n",
        "df = df.drop(['math_score','english_score'], axis=1)\n",
        "print(df)\n"
      ],
      "metadata": {
        "colab": {
          "base_uri": "https://localhost:8080/"
        },
        "id": "K5r1uU996zW8",
        "outputId": "050bc67d-9d87-4b14-909e-b825d97ae9b3"
      },
      "execution_count": 74,
      "outputs": [
        {
          "output_type": "stream",
          "name": "stdout",
          "text": [
            "  student_name  average\n",
            "0        Alice       79\n",
            "1          Bob       74\n",
            "2        Jefin       89\n",
            "3        David       70\n",
            "4         Jude       58\n"
          ]
        }
      ]
    },
    {
      "cell_type": "code",
      "source": [
        "# Create the first DataFrame\n",
        "data1 = {'col1': [1, 2, 3], 'col2': ['A', 'B', 'C']}\n",
        "df1 = pd.DataFrame(data1)\n",
        "\n",
        "# Create the second DataFrame\n",
        "data2 = {'col1': [4, 5, 6], 'col2': ['D', 'E', 'F']}\n",
        "df2 = pd.DataFrame(data2)\n",
        "\n",
        "concatenated_df = pd.concat([df1,df2])\n",
        "\n",
        "print(\"\\nconcatenated_df:\\n\",concatenated_df)"
      ],
      "metadata": {
        "colab": {
          "base_uri": "https://localhost:8080/"
        },
        "id": "6AwN-NSk708T",
        "outputId": "7a5b4ec0-cad1-4d56-a12b-8b7ddf3e0c66"
      },
      "execution_count": 82,
      "outputs": [
        {
          "output_type": "stream",
          "name": "stdout",
          "text": [
            "\n",
            "concatenated_df:\n",
            "    col1 col2\n",
            "0     1    A\n",
            "1     2    B\n",
            "2     3    C\n",
            "0     4    D\n",
            "1     5    E\n",
            "2     6    F\n"
          ]
        }
      ]
    },
    {
      "cell_type": "code",
      "source": [
        "df = pd.DataFrame(columns=['Name','Age'], index=[1,2,3])\n",
        "df.loc[1] = ['Alice', 20]\n",
        "df.loc[2] = ['Bob', 22]\n",
        "df.loc[3] = ['Charlie', 19]\n",
        "\n",
        "sorted_df = df.sort_values('Age',ascending=False)\n",
        "\n",
        "print(sorted_df[:2]['Name'])\n"
      ],
      "metadata": {
        "colab": {
          "base_uri": "https://localhost:8080/"
        },
        "id": "obVzgkH27VQQ",
        "outputId": "d760ff44-b09a-4225-9cb6-004bfcf9461b"
      },
      "execution_count": 92,
      "outputs": [
        {
          "output_type": "stream",
          "name": "stdout",
          "text": [
            "2      Bob\n",
            "1    Alice\n",
            "Name: Name, dtype: object\n"
          ]
        }
      ]
    },
    {
      "cell_type": "code",
      "source": [
        "department = {\n",
        "    'dept_id': [10, 20, 30, 40],\n",
        "    'dept_name': ['HR', 'IT', 'Sales', 'Finance']\n",
        "}\n",
        "employees = {\n",
        "    'emp_id': [1, 2, 3, 4, 5],\n",
        "    'name': ['Alice', 'Bob', 'Revin', 'David', 'Devin'],\n",
        "    'dept_id': [20, 10, 30, 50, 20],\n",
        "    'salary': [70000, 48000, 55000, 62000, 72000]\n",
        "}\n",
        "\n",
        "# Create dataframes\n",
        "df_dept = pd.DataFrame(department)\n",
        "df_emp = pd.DataFrame(employees)\n",
        "\n",
        "# 1) Skip employees with no matching department\n",
        "merged_df1 = pd.merge(df_dept,df_emp)\n",
        "print(\"\\n\",merged_df1[['name','dept_name']])\n",
        "\n",
        "# 2) Include all employees, even without department data\n",
        "merged_df2 = pd.merge(df_emp,df_dept,how='left')\n",
        "print(\"\\n\",merged_df2[['dept_name','name']])\n"
      ],
      "metadata": {
        "colab": {
          "base_uri": "https://localhost:8080/"
        },
        "id": "FraP-1-r9Nt3",
        "outputId": "c75c634e-ae29-4681-b008-fa5e2310f2cc"
      },
      "execution_count": 101,
      "outputs": [
        {
          "output_type": "stream",
          "name": "stdout",
          "text": [
            "\n",
            "     name dept_name\n",
            "0    Bob        HR\n",
            "1  Alice        IT\n",
            "2  Devin        IT\n",
            "3  Revin     Sales\n",
            "\n",
            "   dept_name   name\n",
            "0        IT  Alice\n",
            "1        HR    Bob\n",
            "2     Sales  Revin\n",
            "3       NaN  David\n",
            "4        IT  Devin\n"
          ]
        }
      ]
    },
    {
      "cell_type": "code",
      "source": [
        "data = {\n",
        "    'item': ['apple', 'banana', 'cherry', 'dates'],\n",
        "    'stock': [50, 20, 0, 30],\n",
        "    'price': [500, 200, 100, 150]\n",
        "}\n",
        "\n",
        "df = pd.DataFrame(data, index=['A', 'B', 'C', 'D'])\n",
        "\n",
        "# 1) Using loc, set the stock of cherry (index: \"C\") to 10\n",
        "df.loc['C','stock'] = 10\n",
        "\n",
        "\n",
        "# 2) Using iloc, retrieve the price value at row position 1, column position 2\n",
        "price_at_1_2 = df.iloc[1, 2]\n",
        "\n",
        "print(df)\n",
        "print(f\"\\nPrice at row 1, column 2: {price_at_1_2}\")\n",
        "\n"
      ],
      "metadata": {
        "colab": {
          "base_uri": "https://localhost:8080/"
        },
        "id": "2LpXPsKHF3Lr",
        "outputId": "7df10211-57e2-418f-a460-f0100a7b2a73"
      },
      "execution_count": 117,
      "outputs": [
        {
          "output_type": "stream",
          "name": "stdout",
          "text": [
            "     item  stock  price\n",
            "A   apple     50    500\n",
            "B  banana     20    200\n",
            "C  cherry     10    100\n",
            "D   dates     30    150\n",
            "\n",
            "Price at row 1, column 2: 200\n"
          ]
        }
      ]
    },
    {
      "cell_type": "code",
      "source": [
        "data = {\n",
        "    'first_name': ['John', 'Jane', 'Alice', 'Bob'],\n",
        "    'last_name':  ['Doe',  'Smith','Johnson','Lee']\n",
        "}\n",
        "\n",
        "df = pd.DataFrame(data)\n",
        "df['full_name'] = df['first_name'] + ' '  + df['last_name']\n",
        "df"
      ],
      "metadata": {
        "colab": {
          "base_uri": "https://localhost:8080/",
          "height": 175
        },
        "id": "9zGkICSeHluX",
        "outputId": "6231560f-0465-41e7-94d1-4f1324602151"
      },
      "execution_count": 120,
      "outputs": [
        {
          "output_type": "execute_result",
          "data": {
            "text/plain": [
              "  first_name last_name      full_name\n",
              "0       John       Doe       John Doe\n",
              "1       Jane     Smith     Jane Smith\n",
              "2      Alice   Johnson  Alice Johnson\n",
              "3        Bob       Lee        Bob Lee"
            ],
            "text/html": [
              "\n",
              "  <div id=\"df-6ee50dc8-0051-43ce-bef0-629f874e0220\" class=\"colab-df-container\">\n",
              "    <div>\n",
              "<style scoped>\n",
              "    .dataframe tbody tr th:only-of-type {\n",
              "        vertical-align: middle;\n",
              "    }\n",
              "\n",
              "    .dataframe tbody tr th {\n",
              "        vertical-align: top;\n",
              "    }\n",
              "\n",
              "    .dataframe thead th {\n",
              "        text-align: right;\n",
              "    }\n",
              "</style>\n",
              "<table border=\"1\" class=\"dataframe\">\n",
              "  <thead>\n",
              "    <tr style=\"text-align: right;\">\n",
              "      <th></th>\n",
              "      <th>first_name</th>\n",
              "      <th>last_name</th>\n",
              "      <th>full_name</th>\n",
              "    </tr>\n",
              "  </thead>\n",
              "  <tbody>\n",
              "    <tr>\n",
              "      <th>0</th>\n",
              "      <td>John</td>\n",
              "      <td>Doe</td>\n",
              "      <td>John Doe</td>\n",
              "    </tr>\n",
              "    <tr>\n",
              "      <th>1</th>\n",
              "      <td>Jane</td>\n",
              "      <td>Smith</td>\n",
              "      <td>Jane Smith</td>\n",
              "    </tr>\n",
              "    <tr>\n",
              "      <th>2</th>\n",
              "      <td>Alice</td>\n",
              "      <td>Johnson</td>\n",
              "      <td>Alice Johnson</td>\n",
              "    </tr>\n",
              "    <tr>\n",
              "      <th>3</th>\n",
              "      <td>Bob</td>\n",
              "      <td>Lee</td>\n",
              "      <td>Bob Lee</td>\n",
              "    </tr>\n",
              "  </tbody>\n",
              "</table>\n",
              "</div>\n",
              "    <div class=\"colab-df-buttons\">\n",
              "\n",
              "  <div class=\"colab-df-container\">\n",
              "    <button class=\"colab-df-convert\" onclick=\"convertToInteractive('df-6ee50dc8-0051-43ce-bef0-629f874e0220')\"\n",
              "            title=\"Convert this dataframe to an interactive table.\"\n",
              "            style=\"display:none;\">\n",
              "\n",
              "  <svg xmlns=\"http://www.w3.org/2000/svg\" height=\"24px\" viewBox=\"0 -960 960 960\">\n",
              "    <path d=\"M120-120v-720h720v720H120Zm60-500h600v-160H180v160Zm220 220h160v-160H400v160Zm0 220h160v-160H400v160ZM180-400h160v-160H180v160Zm440 0h160v-160H620v160ZM180-180h160v-160H180v160Zm440 0h160v-160H620v160Z\"/>\n",
              "  </svg>\n",
              "    </button>\n",
              "\n",
              "  <style>\n",
              "    .colab-df-container {\n",
              "      display:flex;\n",
              "      gap: 12px;\n",
              "    }\n",
              "\n",
              "    .colab-df-convert {\n",
              "      background-color: #E8F0FE;\n",
              "      border: none;\n",
              "      border-radius: 50%;\n",
              "      cursor: pointer;\n",
              "      display: none;\n",
              "      fill: #1967D2;\n",
              "      height: 32px;\n",
              "      padding: 0 0 0 0;\n",
              "      width: 32px;\n",
              "    }\n",
              "\n",
              "    .colab-df-convert:hover {\n",
              "      background-color: #E2EBFA;\n",
              "      box-shadow: 0px 1px 2px rgba(60, 64, 67, 0.3), 0px 1px 3px 1px rgba(60, 64, 67, 0.15);\n",
              "      fill: #174EA6;\n",
              "    }\n",
              "\n",
              "    .colab-df-buttons div {\n",
              "      margin-bottom: 4px;\n",
              "    }\n",
              "\n",
              "    [theme=dark] .colab-df-convert {\n",
              "      background-color: #3B4455;\n",
              "      fill: #D2E3FC;\n",
              "    }\n",
              "\n",
              "    [theme=dark] .colab-df-convert:hover {\n",
              "      background-color: #434B5C;\n",
              "      box-shadow: 0px 1px 3px 1px rgba(0, 0, 0, 0.15);\n",
              "      filter: drop-shadow(0px 1px 2px rgba(0, 0, 0, 0.3));\n",
              "      fill: #FFFFFF;\n",
              "    }\n",
              "  </style>\n",
              "\n",
              "    <script>\n",
              "      const buttonEl =\n",
              "        document.querySelector('#df-6ee50dc8-0051-43ce-bef0-629f874e0220 button.colab-df-convert');\n",
              "      buttonEl.style.display =\n",
              "        google.colab.kernel.accessAllowed ? 'block' : 'none';\n",
              "\n",
              "      async function convertToInteractive(key) {\n",
              "        const element = document.querySelector('#df-6ee50dc8-0051-43ce-bef0-629f874e0220');\n",
              "        const dataTable =\n",
              "          await google.colab.kernel.invokeFunction('convertToInteractive',\n",
              "                                                    [key], {});\n",
              "        if (!dataTable) return;\n",
              "\n",
              "        const docLinkHtml = 'Like what you see? Visit the ' +\n",
              "          '<a target=\"_blank\" href=https://colab.research.google.com/notebooks/data_table.ipynb>data table notebook</a>'\n",
              "          + ' to learn more about interactive tables.';\n",
              "        element.innerHTML = '';\n",
              "        dataTable['output_type'] = 'display_data';\n",
              "        await google.colab.output.renderOutput(dataTable, element);\n",
              "        const docLink = document.createElement('div');\n",
              "        docLink.innerHTML = docLinkHtml;\n",
              "        element.appendChild(docLink);\n",
              "      }\n",
              "    </script>\n",
              "  </div>\n",
              "\n",
              "\n",
              "    <div id=\"df-88d5660f-6bbb-4ac0-9a23-50918ba6e8cd\">\n",
              "      <button class=\"colab-df-quickchart\" onclick=\"quickchart('df-88d5660f-6bbb-4ac0-9a23-50918ba6e8cd')\"\n",
              "                title=\"Suggest charts\"\n",
              "                style=\"display:none;\">\n",
              "\n",
              "<svg xmlns=\"http://www.w3.org/2000/svg\" height=\"24px\"viewBox=\"0 0 24 24\"\n",
              "     width=\"24px\">\n",
              "    <g>\n",
              "        <path d=\"M19 3H5c-1.1 0-2 .9-2 2v14c0 1.1.9 2 2 2h14c1.1 0 2-.9 2-2V5c0-1.1-.9-2-2-2zM9 17H7v-7h2v7zm4 0h-2V7h2v10zm4 0h-2v-4h2v4z\"/>\n",
              "    </g>\n",
              "</svg>\n",
              "      </button>\n",
              "\n",
              "<style>\n",
              "  .colab-df-quickchart {\n",
              "      --bg-color: #E8F0FE;\n",
              "      --fill-color: #1967D2;\n",
              "      --hover-bg-color: #E2EBFA;\n",
              "      --hover-fill-color: #174EA6;\n",
              "      --disabled-fill-color: #AAA;\n",
              "      --disabled-bg-color: #DDD;\n",
              "  }\n",
              "\n",
              "  [theme=dark] .colab-df-quickchart {\n",
              "      --bg-color: #3B4455;\n",
              "      --fill-color: #D2E3FC;\n",
              "      --hover-bg-color: #434B5C;\n",
              "      --hover-fill-color: #FFFFFF;\n",
              "      --disabled-bg-color: #3B4455;\n",
              "      --disabled-fill-color: #666;\n",
              "  }\n",
              "\n",
              "  .colab-df-quickchart {\n",
              "    background-color: var(--bg-color);\n",
              "    border: none;\n",
              "    border-radius: 50%;\n",
              "    cursor: pointer;\n",
              "    display: none;\n",
              "    fill: var(--fill-color);\n",
              "    height: 32px;\n",
              "    padding: 0;\n",
              "    width: 32px;\n",
              "  }\n",
              "\n",
              "  .colab-df-quickchart:hover {\n",
              "    background-color: var(--hover-bg-color);\n",
              "    box-shadow: 0 1px 2px rgba(60, 64, 67, 0.3), 0 1px 3px 1px rgba(60, 64, 67, 0.15);\n",
              "    fill: var(--button-hover-fill-color);\n",
              "  }\n",
              "\n",
              "  .colab-df-quickchart-complete:disabled,\n",
              "  .colab-df-quickchart-complete:disabled:hover {\n",
              "    background-color: var(--disabled-bg-color);\n",
              "    fill: var(--disabled-fill-color);\n",
              "    box-shadow: none;\n",
              "  }\n",
              "\n",
              "  .colab-df-spinner {\n",
              "    border: 2px solid var(--fill-color);\n",
              "    border-color: transparent;\n",
              "    border-bottom-color: var(--fill-color);\n",
              "    animation:\n",
              "      spin 1s steps(1) infinite;\n",
              "  }\n",
              "\n",
              "  @keyframes spin {\n",
              "    0% {\n",
              "      border-color: transparent;\n",
              "      border-bottom-color: var(--fill-color);\n",
              "      border-left-color: var(--fill-color);\n",
              "    }\n",
              "    20% {\n",
              "      border-color: transparent;\n",
              "      border-left-color: var(--fill-color);\n",
              "      border-top-color: var(--fill-color);\n",
              "    }\n",
              "    30% {\n",
              "      border-color: transparent;\n",
              "      border-left-color: var(--fill-color);\n",
              "      border-top-color: var(--fill-color);\n",
              "      border-right-color: var(--fill-color);\n",
              "    }\n",
              "    40% {\n",
              "      border-color: transparent;\n",
              "      border-right-color: var(--fill-color);\n",
              "      border-top-color: var(--fill-color);\n",
              "    }\n",
              "    60% {\n",
              "      border-color: transparent;\n",
              "      border-right-color: var(--fill-color);\n",
              "    }\n",
              "    80% {\n",
              "      border-color: transparent;\n",
              "      border-right-color: var(--fill-color);\n",
              "      border-bottom-color: var(--fill-color);\n",
              "    }\n",
              "    90% {\n",
              "      border-color: transparent;\n",
              "      border-bottom-color: var(--fill-color);\n",
              "    }\n",
              "  }\n",
              "</style>\n",
              "\n",
              "      <script>\n",
              "        async function quickchart(key) {\n",
              "          const quickchartButtonEl =\n",
              "            document.querySelector('#' + key + ' button');\n",
              "          quickchartButtonEl.disabled = true;  // To prevent multiple clicks.\n",
              "          quickchartButtonEl.classList.add('colab-df-spinner');\n",
              "          try {\n",
              "            const charts = await google.colab.kernel.invokeFunction(\n",
              "                'suggestCharts', [key], {});\n",
              "          } catch (error) {\n",
              "            console.error('Error during call to suggestCharts:', error);\n",
              "          }\n",
              "          quickchartButtonEl.classList.remove('colab-df-spinner');\n",
              "          quickchartButtonEl.classList.add('colab-df-quickchart-complete');\n",
              "        }\n",
              "        (() => {\n",
              "          let quickchartButtonEl =\n",
              "            document.querySelector('#df-88d5660f-6bbb-4ac0-9a23-50918ba6e8cd button');\n",
              "          quickchartButtonEl.style.display =\n",
              "            google.colab.kernel.accessAllowed ? 'block' : 'none';\n",
              "        })();\n",
              "      </script>\n",
              "    </div>\n",
              "\n",
              "  <div id=\"id_f08a902c-e137-4892-97ec-fb3f875594ec\">\n",
              "    <style>\n",
              "      .colab-df-generate {\n",
              "        background-color: #E8F0FE;\n",
              "        border: none;\n",
              "        border-radius: 50%;\n",
              "        cursor: pointer;\n",
              "        display: none;\n",
              "        fill: #1967D2;\n",
              "        height: 32px;\n",
              "        padding: 0 0 0 0;\n",
              "        width: 32px;\n",
              "      }\n",
              "\n",
              "      .colab-df-generate:hover {\n",
              "        background-color: #E2EBFA;\n",
              "        box-shadow: 0px 1px 2px rgba(60, 64, 67, 0.3), 0px 1px 3px 1px rgba(60, 64, 67, 0.15);\n",
              "        fill: #174EA6;\n",
              "      }\n",
              "\n",
              "      [theme=dark] .colab-df-generate {\n",
              "        background-color: #3B4455;\n",
              "        fill: #D2E3FC;\n",
              "      }\n",
              "\n",
              "      [theme=dark] .colab-df-generate:hover {\n",
              "        background-color: #434B5C;\n",
              "        box-shadow: 0px 1px 3px 1px rgba(0, 0, 0, 0.15);\n",
              "        filter: drop-shadow(0px 1px 2px rgba(0, 0, 0, 0.3));\n",
              "        fill: #FFFFFF;\n",
              "      }\n",
              "    </style>\n",
              "    <button class=\"colab-df-generate\" onclick=\"generateWithVariable('df')\"\n",
              "            title=\"Generate code using this dataframe.\"\n",
              "            style=\"display:none;\">\n",
              "\n",
              "  <svg xmlns=\"http://www.w3.org/2000/svg\" height=\"24px\"viewBox=\"0 0 24 24\"\n",
              "       width=\"24px\">\n",
              "    <path d=\"M7,19H8.4L18.45,9,17,7.55,7,17.6ZM5,21V16.75L18.45,3.32a2,2,0,0,1,2.83,0l1.4,1.43a1.91,1.91,0,0,1,.58,1.4,1.91,1.91,0,0,1-.58,1.4L9.25,21ZM18.45,9,17,7.55Zm-12,3A5.31,5.31,0,0,0,4.9,8.1,5.31,5.31,0,0,0,1,6.5,5.31,5.31,0,0,0,4.9,4.9,5.31,5.31,0,0,0,6.5,1,5.31,5.31,0,0,0,8.1,4.9,5.31,5.31,0,0,0,12,6.5,5.46,5.46,0,0,0,6.5,12Z\"/>\n",
              "  </svg>\n",
              "    </button>\n",
              "    <script>\n",
              "      (() => {\n",
              "      const buttonEl =\n",
              "        document.querySelector('#id_f08a902c-e137-4892-97ec-fb3f875594ec button.colab-df-generate');\n",
              "      buttonEl.style.display =\n",
              "        google.colab.kernel.accessAllowed ? 'block' : 'none';\n",
              "\n",
              "      buttonEl.onclick = () => {\n",
              "        google.colab.notebook.generateWithVariable('df');\n",
              "      }\n",
              "      })();\n",
              "    </script>\n",
              "  </div>\n",
              "\n",
              "    </div>\n",
              "  </div>\n"
            ],
            "application/vnd.google.colaboratory.intrinsic+json": {
              "type": "dataframe",
              "variable_name": "df",
              "summary": "{\n  \"name\": \"df\",\n  \"rows\": 4,\n  \"fields\": [\n    {\n      \"column\": \"first_name\",\n      \"properties\": {\n        \"dtype\": \"string\",\n        \"num_unique_values\": 4,\n        \"samples\": [\n          \"Jane\",\n          \"Bob\",\n          \"John\"\n        ],\n        \"semantic_type\": \"\",\n        \"description\": \"\"\n      }\n    },\n    {\n      \"column\": \"last_name\",\n      \"properties\": {\n        \"dtype\": \"string\",\n        \"num_unique_values\": 4,\n        \"samples\": [\n          \"Smith\",\n          \"Lee\",\n          \"Doe\"\n        ],\n        \"semantic_type\": \"\",\n        \"description\": \"\"\n      }\n    },\n    {\n      \"column\": \"full_name\",\n      \"properties\": {\n        \"dtype\": \"string\",\n        \"num_unique_values\": 4,\n        \"samples\": [\n          \"Jane Smith\",\n          \"Bob Lee\",\n          \"John Doe\"\n        ],\n        \"semantic_type\": \"\",\n        \"description\": \"\"\n      }\n    }\n  ]\n}"
            }
          },
          "metadata": {},
          "execution_count": 120
        }
      ]
    },
    {
      "cell_type": "code",
      "source": [
        "\n",
        "data = {\n",
        "    'order_id':  [101, 102, 103, 104, 105, 106, 107],\n",
        "    'product_category':['Electronics','Clothing','Electronics', 'Home','Clothing','Home','Electronics'],\n",
        "    'order_value':  [250, 80, 120, 200, 50, 150, 300],\n",
        "    'user_id':[1, 2,  1, 3, 2, 1, 2]\n",
        "}\n",
        "\n",
        "df = pd.DataFrame(data)\n",
        "\n",
        "print(df)\n",
        "\n",
        "# 1. Count of orders made by each user\n",
        "order_count = df.groupby('user_id')['order_id'].count()\n",
        "print(\"Count of orders made by each user:\\n\", order_count)\n",
        "\n",
        "# 2. Average order value by each user\n",
        "average_order_value = df.groupby('user_id')['order_value'].mean()\n",
        "print(\"\\nAverage order value by each user:\\n\", average_order_value)\n",
        "\n",
        "\n",
        "# 3. Average order value for each product category\n",
        "average_order_value_category = df.groupby('product_category')['order_value'].mean()\n",
        "print(\"\\nAverage order value for each product category:\\n\", average_order_value_category)\n"
      ],
      "metadata": {
        "colab": {
          "base_uri": "https://localhost:8080/"
        },
        "id": "ZQQZsy_4IkMh",
        "outputId": "96dbdf90-1bc2-4799-a869-3db826c741f5"
      },
      "execution_count": 134,
      "outputs": [
        {
          "output_type": "stream",
          "name": "stdout",
          "text": [
            "   order_id product_category  order_value  user_id\n",
            "0       101      Electronics          250        1\n",
            "1       102         Clothing           80        2\n",
            "2       103      Electronics          120        1\n",
            "3       104             Home          200        3\n",
            "4       105         Clothing           50        2\n",
            "5       106             Home          150        1\n",
            "6       107      Electronics          300        2\n",
            "Count of orders made by each user:\n",
            " user_id\n",
            "1    3\n",
            "2    3\n",
            "3    1\n",
            "Name: order_id, dtype: int64\n",
            "\n",
            "Average order value by each user:\n",
            " user_id\n",
            "1    173.333333\n",
            "2    143.333333\n",
            "3    200.000000\n",
            "Name: order_value, dtype: float64\n",
            "\n",
            "Average order value for each product category:\n",
            " product_category\n",
            "Clothing        65.000000\n",
            "Electronics    223.333333\n",
            "Home           175.000000\n",
            "Name: order_value, dtype: float64\n"
          ]
        }
      ]
    }
  ]
}