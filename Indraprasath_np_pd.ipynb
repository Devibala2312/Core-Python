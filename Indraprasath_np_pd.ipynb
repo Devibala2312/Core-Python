{
  "nbformat": 4,
  "nbformat_minor": 0,
  "metadata": {
    "colab": {
      "provenance": []
    },
    "kernelspec": {
      "name": "python3",
      "display_name": "Python 3"
    },
    "language_info": {
      "name": "python"
    }
  },
  "cells": [
    {
      "cell_type": "code",
      "execution_count": 1,
      "metadata": {
        "id": "sdTfkV-Qqooe"
      },
      "outputs": [],
      "source": [
        "import numpy as np\n",
        "import pandas as pd"
      ]
    },
    {
      "cell_type": "code",
      "source": [
        "array = np.arange(5,11)\n",
        "print(array)"
      ],
      "metadata": {
        "colab": {
          "base_uri": "https://localhost:8080/"
        },
        "id": "3H670_P4q1Az",
        "outputId": "c15b1c95-105e-4130-f17f-8313fe6103d3"
      },
      "execution_count": 3,
      "outputs": [
        {
          "output_type": "stream",
          "name": "stdout",
          "text": [
            "[ 5  6  7  8  9 10]\n"
          ]
        }
      ]
    },
    {
      "cell_type": "code",
      "source": [
        "array = np.random.randint(1, 11, (3,3))\n",
        "print(\"array: \", array)\n",
        "even_count = np.count_nonzero(array%2 == 0)\n",
        "print(even_count)"
      ],
      "metadata": {
        "colab": {
          "base_uri": "https://localhost:8080/"
        },
        "id": "mYql54CFq6wS",
        "outputId": "a5758e79-a7ed-4ccc-aa9d-8dacbba3f485"
      },
      "execution_count": 4,
      "outputs": [
        {
          "output_type": "stream",
          "name": "stdout",
          "text": [
            "array:  [[ 2  4  3]\n",
            " [ 3 10  8]\n",
            " [ 8  2  2]]\n",
            "7\n"
          ]
        }
      ]
    },
    {
      "cell_type": "code",
      "source": [
        "array = np.random.randint(10, 131, (5,4))\n",
        "print(\"array: \", array)\n",
        "print(\"column mean : \",np.mean(array, axis=0))\n",
        "print(\"Std :\", np.std(array))"
      ],
      "metadata": {
        "colab": {
          "base_uri": "https://localhost:8080/"
        },
        "id": "sMdV2KPJsvW6",
        "outputId": "3b09ce57-c00e-4c29-b353-887453b31f91"
      },
      "execution_count": 5,
      "outputs": [
        {
          "output_type": "stream",
          "name": "stdout",
          "text": [
            "array:  [[106  57  47  62]\n",
            " [ 52  88 130  57]\n",
            " [123  67 103 122]\n",
            " [ 89  24  16 100]\n",
            " [ 57 106  18  51]]\n",
            "column mean :  [85.4 68.4 62.8 78.4]\n",
            "Std : 34.371317984622\n"
          ]
        }
      ]
    },
    {
      "cell_type": "code",
      "source": [
        "data = {\n",
        "  'name': ['Alice', 'Bob', 'Jefin', 'David', 'Jude'],\n",
        "  'math_score': [80, 64, 90, 72, 56],\n",
        "  'english_score': [78, 85, 88, 69, 60]\n",
        "}\n",
        "df = pd.DataFrame(data)\n",
        "df['average'] = ((df['math_score'] + df['english_score']) / 2)\n",
        "df.drop(['math_score', 'english_score'], axis=1, inplace=True)\n",
        "print(df)"
      ],
      "metadata": {
        "colab": {
          "base_uri": "https://localhost:8080/"
        },
        "id": "-CuGtWKHaAI2",
        "outputId": "fb6944ea-dfcc-4077-b91d-cdfbf6402978"
      },
      "execution_count": 10,
      "outputs": [
        {
          "output_type": "stream",
          "name": "stdout",
          "text": [
            "    name  average\n",
            "0  Alice     79.0\n",
            "1    Bob     74.5\n",
            "2  Jefin     89.0\n",
            "3  David     70.5\n",
            "4   Jude     58.0\n"
          ]
        }
      ]
    },
    {
      "cell_type": "code",
      "source": [
        "df1 = pd.DataFrame({\n",
        "    'name': ['Alice', 'Bob'],\n",
        "    'age': [25, 30]\n",
        "})\n",
        "df2 = pd.DataFrame({\n",
        "    'name': ['Charlie', 'David'],\n",
        "    'age': [22, 28]\n",
        "})\n",
        "combined_df = pd.concat([df1, df2], axis=0)\n",
        "combined_df.reset_index(drop=True, inplace=True)\n",
        "print(combined_df)"
      ],
      "metadata": {
        "colab": {
          "base_uri": "https://localhost:8080/"
        },
        "id": "VoQf9jeCeNqL",
        "outputId": "bb53d347-d78d-4df4-ae19-0fa4b83c0c0c"
      },
      "execution_count": 12,
      "outputs": [
        {
          "output_type": "stream",
          "name": "stdout",
          "text": [
            "      name  age\n",
            "0    Alice   25\n",
            "1      Bob   30\n",
            "2  Charlie   22\n",
            "3    David   28\n"
          ]
        }
      ]
    },
    {
      "cell_type": "code",
      "source": [
        "df = pd.DataFrame(columns=['Name', 'Age'], index=[1, 2, 3])\n",
        "df.index.name = 'Student Info'\n",
        "df.loc[1] = ['Alice', 20]\n",
        "df.loc[2] = ['Bob', 22]\n",
        "df.loc[3] = ['Charlie', 21]\n",
        "df_sorted = df.sort_values(by='Age', ascending=False)\n",
        "top_two_names = df_sorted.iloc[:2]\n",
        "print(top_two_names)"
      ],
      "metadata": {
        "colab": {
          "base_uri": "https://localhost:8080/"
        },
        "id": "Tu5Q6Cw1n0jA",
        "outputId": "b8f22834-e42b-4d17-e6a1-8405e2fa8394"
      },
      "execution_count": 6,
      "outputs": [
        {
          "output_type": "stream",
          "name": "stdout",
          "text": [
            "                 Name Age\n",
            "Student Info             \n",
            "2                 Bob  22\n",
            "3             Charlie  21\n"
          ]
        }
      ]
    },
    {
      "cell_type": "code",
      "source": [
        "department = {\n",
        "  'dept_id': [10, 20, 30, 40],\n",
        "  'dept_name': ['HR', 'IT', 'Sales', 'Finance']\n",
        "}\n",
        "employees = {\n",
        "  'emp_id': [1, 2, 3, 4, 5],\n",
        "  'name': ['Alice','Bob','Revin','David','Devin'],\n",
        "  'dept_id': [20, 10, 30, 50, 20],\n",
        "  'salary': [70000, 48000, 55000, 62000, 72000]\n",
        "}\n",
        "df_dept = pd.DataFrame(department)\n",
        "df_emp = pd.DataFrame(employees)\n",
        "result1 = pd.merge(df_emp, df_dept, on='dept_id', how='inner')\n",
        "print(result1[['name', 'dept_name']])\n",
        "result2 = pd.merge(df_emp, df_dept, on='dept_id', how='left')\n",
        "print(result2[['name', 'dept_name']])"
      ],
      "metadata": {
        "colab": {
          "base_uri": "https://localhost:8080/"
        },
        "id": "MSLff1MWDrsD",
        "outputId": "fbd80b4e-0ae2-40d5-f08a-a6656314ed4f"
      },
      "execution_count": 5,
      "outputs": [
        {
          "output_type": "stream",
          "name": "stdout",
          "text": [
            "    name dept_name\n",
            "0  Alice        IT\n",
            "1    Bob        HR\n",
            "2  Revin     Sales\n",
            "3  Devin        IT\n",
            "    name dept_name\n",
            "0  Alice        IT\n",
            "1    Bob        HR\n",
            "2  Revin     Sales\n",
            "3  David       NaN\n",
            "4  Devin        IT\n"
          ]
        }
      ]
    },
    {
      "cell_type": "code",
      "source": [
        "data = {\n",
        "  'item':  ['apple', 'banana', 'cherry', 'dates'],\n",
        "  'stock': [50, 20, 0, 30],\n",
        "  'price': [50, 20, 100, 150]\n",
        "}\n",
        "df = pd.DataFrame(data, index=['A', 'B', 'C', 'D'])\n",
        "df.loc['C', 'stock'] = 10\n",
        "print(df)\n",
        "value = df.iloc[1, 2]\n",
        "print(value)"
      ],
      "metadata": {
        "colab": {
          "base_uri": "https://localhost:8080/"
        },
        "id": "6h2OdzkM8q9k",
        "outputId": "eca57211-da3a-4804-e62d-49dd7c8fedc4"
      },
      "execution_count": 7,
      "outputs": [
        {
          "output_type": "stream",
          "name": "stdout",
          "text": [
            "     item  stock  price\n",
            "A   apple     50     50\n",
            "B  banana     20     20\n",
            "C  cherry     10    100\n",
            "D   dates     30    150\n",
            "20\n"
          ]
        }
      ]
    },
    {
      "cell_type": "code",
      "source": [
        "data = {\n",
        "  'first_name': ['John', 'Jane', 'Alice', 'Bob'],\n",
        "  'last_name':  ['Doe',  'Smith','Johnson','Lee']\n",
        "}\n",
        "df = pd.DataFrame(data)\n",
        "df['full_name'] = df['first_name'] + ' ' + df['last_name']\n",
        "print(df)"
      ],
      "metadata": {
        "colab": {
          "base_uri": "https://localhost:8080/"
        },
        "id": "quO8Lm_X9qHw",
        "outputId": "a21b078e-5e65-4b9f-dc6a-98e57397c72f"
      },
      "execution_count": 8,
      "outputs": [
        {
          "output_type": "stream",
          "name": "stdout",
          "text": [
            "  first_name last_name      full_name\n",
            "0       John       Doe       John Doe\n",
            "1       Jane     Smith     Jane Smith\n",
            "2      Alice   Johnson  Alice Johnson\n",
            "3        Bob       Lee        Bob Lee\n"
          ]
        }
      ]
    },
    {
      "cell_type": "code",
      "source": [
        "data = {\n",
        "  'order_id':  [101, 102, 103, 104, 105, 106, 107],\n",
        "  'product_category': ['Electronics','Clothing','Electronics', 'Home','Clothing','Home','Electronics'],\n",
        "  'order_value':  [250, 80, 120, 200, 50, 150, 300],\n",
        "  'user_id': [1, 2, 1, 3, 2, 1, 2]\n",
        "}\n",
        "df = pd.DataFrame(data)\n",
        "order_count = df['user_id'].value_counts().sort_index()\n",
        "print(order_count)\n",
        "avg_order_by_user = df.groupby('user_id')['order_value'].mean()\n",
        "print(avg_order_by_user)\n",
        "avg_order_by_category = df.groupby('product_category')['order_value'].mean()\n",
        "print(avg_order_by_category)"
      ],
      "metadata": {
        "colab": {
          "base_uri": "https://localhost:8080/"
        },
        "id": "gKqWG4sh-JMQ",
        "outputId": "bc99f53b-124e-4649-ab83-90df29f65590"
      },
      "execution_count": 11,
      "outputs": [
        {
          "output_type": "stream",
          "name": "stdout",
          "text": [
            "user_id\n",
            "1    3\n",
            "2    3\n",
            "3    1\n",
            "Name: count, dtype: int64\n",
            "user_id\n",
            "1    173.333333\n",
            "2    143.333333\n",
            "3    200.000000\n",
            "Name: order_value, dtype: float64\n",
            "product_category\n",
            "Clothing        65.000000\n",
            "Electronics    223.333333\n",
            "Home           175.000000\n",
            "Name: order_value, dtype: float64\n"
          ]
        }
      ]
    }
  ]
}