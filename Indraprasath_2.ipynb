{
  "nbformat": 4,
  "nbformat_minor": 0,
  "metadata": {
    "colab": {
      "provenance": []
    },
    "kernelspec": {
      "name": "python3",
      "display_name": "Python 3"
    },
    "language_info": {
      "name": "python"
    }
  },
  "cells": [
    {
      "cell_type": "code",
      "execution_count": 3,
      "metadata": {
        "colab": {
          "base_uri": "https://localhost:8080/"
        },
        "id": "svuz0r4hXoST",
        "outputId": "5dec5ce6-4957-4936-a67d-371161a794ac"
      },
      "outputs": [
        {
          "output_type": "stream",
          "name": "stdout",
          "text": [
            "Enter a number: 5\n",
            "Factorial: 120\n"
          ]
        }
      ],
      "source": [
        "num = int(input(\"Enter a number: \"))\n",
        "fact = 1\n",
        "while num > 0:\n",
        "    fact *= num\n",
        "    num -= 1\n",
        "print(\"Factorial:\", fact)"
      ]
    },
    {
      "cell_type": "code",
      "source": [
        "sum = 0\n",
        "for num in range(1,101):\n",
        "  if num%2 == 0:\n",
        "    sum += num\n",
        "print(sum)"
      ],
      "metadata": {
        "colab": {
          "base_uri": "https://localhost:8080/"
        },
        "id": "_Jvf3kOFXqN9",
        "outputId": "4b2ceaeb-32c7-4ff7-d08b-b4684e9a0ef0"
      },
      "execution_count": 5,
      "outputs": [
        {
          "output_type": "stream",
          "name": "stdout",
          "text": [
            "2550\n"
          ]
        }
      ]
    },
    {
      "cell_type": "code",
      "source": [
        "input_string = input(\"Enter a string: \")\n",
        "vowels = 'aeiouAEIOU'\n",
        "vowel_count = 0\n",
        "for char in input_string:\n",
        "    if char in vowels:\n",
        "        vowel_count += 1\n",
        "print(f\"Number of vowels in the string: {vowel_count}\")"
      ],
      "metadata": {
        "colab": {
          "base_uri": "https://localhost:8080/"
        },
        "id": "jfhxoMU-4NMa",
        "outputId": "89697219-645d-4f31-8ce2-00376c93037c"
      },
      "execution_count": 7,
      "outputs": [
        {
          "output_type": "stream",
          "name": "stdout",
          "text": [
            "Enter a string: asfsg\n",
            "Number of vowels in the string: 1\n"
          ]
        }
      ]
    },
    {
      "cell_type": "code",
      "source": [
        "num = int(input())\n",
        "if num%2 == 0:\n",
        "  print(\"even number\")\n",
        "else:\n",
        "  print(\"odd number\")"
      ],
      "metadata": {
        "colab": {
          "base_uri": "https://localhost:8080/"
        },
        "id": "Dzl3tkMO63PN",
        "outputId": "923161e8-2d42-49e6-cf47-3a1c10c54731"
      },
      "execution_count": 9,
      "outputs": [
        {
          "output_type": "stream",
          "name": "stdout",
          "text": [
            "5\n",
            "odd number\n"
          ]
        }
      ]
    },
    {
      "cell_type": "code",
      "source": [
        "num = int(input())\n",
        "if num >= 18:\n",
        "  print(\"Can Vote\")\n",
        "else:\n",
        "  print(\"Can't\")"
      ],
      "metadata": {
        "colab": {
          "base_uri": "https://localhost:8080/"
        },
        "id": "SUzCp3WD82l5",
        "outputId": "8709feaa-c474-4924-e901-57ef645e91d5"
      },
      "execution_count": 12,
      "outputs": [
        {
          "output_type": "stream",
          "name": "stdout",
          "text": [
            "25\n",
            "Can Vote\n"
          ]
        }
      ]
    },
    {
      "cell_type": "code",
      "source": [
        "def positive_numbers(lst):\n",
        "    for num in lst:\n",
        "        if num > 0:\n",
        "            yield num\n",
        "\n",
        "numbers = [-3, -2, 0, 1, 2, 4, 5, 7]\n",
        "positive_nums = positive_numbers(numbers)\n",
        "for num in positive_nums:\n",
        "    print(num)\n"
      ],
      "metadata": {
        "colab": {
          "base_uri": "https://localhost:8080/"
        },
        "id": "OuOawS9qDruo",
        "outputId": "bc1f54d9-5cdd-4650-e72d-5ff531b5b380"
      },
      "execution_count": 15,
      "outputs": [
        {
          "output_type": "stream",
          "name": "stdout",
          "text": [
            "1\n",
            "2\n",
            "4\n",
            "5\n",
            "7\n"
          ]
        }
      ]
    },
    {
      "cell_type": "code",
      "source": [
        "def welcome(name=\"Guest\"):\n",
        "    print(f\"Welcome, {name}!\")\n",
        "\n",
        "name = input(\"Enter your name: \")\n",
        "if name:\n",
        "    welcome(name)\n",
        "else:\n",
        "    welcome()\n"
      ],
      "metadata": {
        "colab": {
          "base_uri": "https://localhost:8080/"
        },
        "id": "u3SpJRrZEpx7",
        "outputId": "35e0af36-3857-4e83-c220-164272365a7e"
      },
      "execution_count": 18,
      "outputs": [
        {
          "output_type": "stream",
          "name": "stdout",
          "text": [
            "Enter your name (or press Enter to use default): aaa\n",
            "Welcome, aaa!\n"
          ]
        }
      ]
    },
    {
      "cell_type": "code",
      "source": [
        "def sum_all(*args):\n",
        "    total = 0\n",
        "    for num in args:\n",
        "        total += num\n",
        "    return total\n",
        "\n",
        "result = sum_all(1, 2, 3)\n",
        "print(result)\n"
      ],
      "metadata": {
        "colab": {
          "base_uri": "https://localhost:8080/"
        },
        "id": "-MfHmKFGKB3p",
        "outputId": "68d33dfe-044c-4f15-dc80-e1c4d150754f"
      },
      "execution_count": 22,
      "outputs": [
        {
          "output_type": "stream",
          "name": "stdout",
          "text": [
            "6\n"
          ]
        }
      ]
    },
    {
      "cell_type": "code",
      "source": [
        "def print_user_info(**kwargs):\n",
        "    for key, value in kwargs.items():\n",
        "        print(f\"{key}: {value}\")\n",
        "\n",
        "print_user_info(name=\"Alice\", age=25, city=\"NYC\")"
      ],
      "metadata": {
        "colab": {
          "base_uri": "https://localhost:8080/"
        },
        "id": "-_0TRKfJLB3F",
        "outputId": "9e84636c-f188-4aa3-876b-f3241b946a0a"
      },
      "execution_count": 23,
      "outputs": [
        {
          "output_type": "stream",
          "name": "stdout",
          "text": [
            "name: Alice\n",
            "age: 25\n",
            "city: NYC\n"
          ]
        }
      ]
    },
    {
      "cell_type": "code",
      "source": [
        "visits = 0\n",
        "\n",
        "def track_visit(page):\n",
        "  global visits\n",
        "  visits += 1\n",
        "  message = f\"User visited {page}. Total visits: {visits}\"\n",
        "  print(message)\n",
        "\n",
        "track_visit(\"Home\")\n",
        "track_visit(\"About\")\n",
        "print(visits)"
      ],
      "metadata": {
        "colab": {
          "base_uri": "https://localhost:8080/"
        },
        "id": "YqZmcO-BLb-m",
        "outputId": "2742d6aa-4a09-41d9-ebff-c0d3134bde94"
      },
      "execution_count": 27,
      "outputs": [
        {
          "output_type": "stream",
          "name": "stdout",
          "text": [
            "User visited Home. Total visits: 1\n",
            "User visited About. Total visits: 2\n",
            "2\n"
          ]
        }
      ]
    }
  ]
}